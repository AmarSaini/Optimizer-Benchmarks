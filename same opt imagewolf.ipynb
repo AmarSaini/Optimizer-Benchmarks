{
 "cells": [
  {
   "cell_type": "markdown",
   "metadata": {},
   "source": [
    "# Settings, Imports, Util Functions"
   ]
  },
  {
   "cell_type": "markdown",
   "metadata": {},
   "source": [
    "## Settings"
   ]
  },
  {
   "cell_type": "code",
   "execution_count": 1,
   "metadata": {
    "ExecuteTime": {
     "end_time": "2020-01-02T17:35:44.587102Z",
     "start_time": "2020-01-02T17:35:44.581586Z"
    },
    "run_control": {
     "marked": false
    }
   },
   "outputs": [],
   "source": [
    "model_type = 'untrained_resnet'\n",
    "\n",
    "# model name, for tensorboard recording and checkpointing purposes.\n",
    "versionName = \"same opt imagewolf\"\n",
    "\n",
    "# GPU Numbers to use. Comma seprate them for multi-GPUs.\n",
    "gpu_ids = \"6\"\n",
    "\n",
    "preload_model = False\n",
    "\n",
    "if (preload_model):\n",
    "    # path to load model params.\n",
    "    pretrained_model_path = 'cps/a'\n",
    "    \n",
    "else:\n",
    "    pretrained_model_path = 'N/A'\n",
    "\n",
    "# rate at which to record metrics. (number of batches to average over when recording metrics, e.g. \"every 5 batches\")\n",
    "tensorboard_rate = 5\n",
    "\n",
    "# checkpoint rate. (save model every x epochs)\n",
    "checkpoint_rate = 10\n",
    "\n",
    "# number of epochs to train.\n",
    "epochs = 10"
   ]
  },
  {
   "cell_type": "markdown",
   "metadata": {
    "heading_collapsed": true
   },
   "source": [
    "## Imports"
   ]
  },
  {
   "cell_type": "code",
   "execution_count": 2,
   "metadata": {
    "ExecuteTime": {
     "end_time": "2020-01-02T17:35:45.830218Z",
     "start_time": "2020-01-02T17:35:44.589224Z"
    },
    "hidden": true,
    "run_control": {
     "marked": false
    }
   },
   "outputs": [],
   "source": [
    "# --- Must haves ---\n",
    "import torch\n",
    "import torchvision\n",
    "from torch.utils.data import Dataset, DataLoader\n",
    "from torch import cuda\n",
    "\n",
    "import pickle\n",
    "import random\n",
    "from pathlib import Path\n",
    "import os\n",
    "\n",
    "import numpy as np\n",
    "import matplotlib.pyplot as plt\n",
    "import matplotlib.animation as animation\n",
    "\n",
    "from PIL import Image\n",
    "from torchvision import transforms"
   ]
  },
  {
   "cell_type": "markdown",
   "metadata": {
    "heading_collapsed": true
   },
   "source": [
    "## Util Functions"
   ]
  },
  {
   "cell_type": "code",
   "execution_count": 3,
   "metadata": {
    "ExecuteTime": {
     "end_time": "2020-01-02T17:35:45.836934Z",
     "start_time": "2020-01-02T17:35:45.833264Z"
    },
    "hidden": true,
    "run_control": {
     "marked": false
    }
   },
   "outputs": [],
   "source": [
    "# --- Functions to convert between Torch Tensors and PIL Images\n",
    "tensorToImage = torchvision.transforms.ToPILImage()\n",
    "imageToTensor = torchvision.transforms.ToTensor()"
   ]
  },
  {
   "cell_type": "markdown",
   "metadata": {
    "heading_collapsed": true
   },
   "source": [
    "# Datasets"
   ]
  },
  {
   "cell_type": "markdown",
   "metadata": {
    "heading_collapsed": true,
    "hidden": true
   },
   "source": [
    "## Dataset from Class"
   ]
  },
  {
   "cell_type": "code",
   "execution_count": 8,
   "metadata": {
    "ExecuteTime": {
     "end_time": "2020-01-02T17:35:52.216236Z",
     "start_time": "2020-01-02T17:35:52.204453Z"
    },
    "hidden": true,
    "run_control": {
     "marked": false
    }
   },
   "outputs": [],
   "source": [
    "class Imagenette_Dataset(Dataset):\n",
    "    \n",
    "    def __init__(self, root_path, tfms=None):\n",
    "        self.root_path = Path(root_path)\n",
    "        self.tfms = tfms\n",
    "        \n",
    "        self.label_to_index = {label_path.name:i for i,label_path in enumerate(self.root_path.iterdir())}\n",
    "        self.index_to_label = {i:label_path.name for i,label_path in enumerate(self.root_path.iterdir())}\n",
    "        \n",
    "        self.imgs = []\n",
    "        for label_path in self.root_path.iterdir():\n",
    "            self.imgs += list(label_path.iterdir())\n",
    "        \n",
    "    def __len__(self):\n",
    "        return len(self.imgs)\n",
    "    \n",
    "    def __getitem__(self, idx):\n",
    "        label_name = trainDataset.imgs[idx].parent.name\n",
    "        img = Image.open(trainDataset.imgs[idx]).convert('RGB')\n",
    "        \n",
    "        img = self.tfms(img)\n",
    "        \n",
    "        return img, self.label_to_index[label_name]"
   ]
  },
  {
   "cell_type": "code",
   "execution_count": 9,
   "metadata": {
    "ExecuteTime": {
     "end_time": "2020-01-02T17:35:52.902132Z",
     "start_time": "2020-01-02T17:35:52.218882Z"
    },
    "hidden": true
   },
   "outputs": [
    {
     "data": {
      "text/plain": [
       "(9025, 3929)"
      ]
     },
     "execution_count": 9,
     "metadata": {},
     "output_type": "execute_result"
    }
   ],
   "source": [
    "train_tfms = transforms.Compose([transforms.Resize((224, 224)), transforms.ToTensor()])\n",
    "trainDataset = Imagenette_Dataset('imagewoof2-320/train/', train_tfms)\n",
    "\n",
    "valid_tfms = transforms.Compose([transforms.Resize((224, 224)), transforms.ToTensor()])\n",
    "validDataset = Imagenette_Dataset('imagewoof2-320/val/', valid_tfms)\n",
    "\n",
    "len(trainDataset), len(validDataset)"
   ]
  },
  {
   "cell_type": "code",
   "execution_count": 10,
   "metadata": {
    "ExecuteTime": {
     "end_time": "2020-01-02T17:35:52.956435Z",
     "start_time": "2020-01-02T17:35:52.904225Z"
    },
    "hidden": true,
    "run_control": {
     "marked": false
    }
   },
   "outputs": [
    {
     "data": {
      "text/plain": [
       "(0, torch.Size([3, 224, 224]))"
      ]
     },
     "execution_count": 10,
     "metadata": {},
     "output_type": "execute_result"
    }
   ],
   "source": [
    "img, label = trainDataset[72]\n",
    "label, img.shape"
   ]
  },
  {
   "cell_type": "code",
   "execution_count": 11,
   "metadata": {
    "ExecuteTime": {
     "end_time": "2020-01-02T17:35:52.988361Z",
     "start_time": "2020-01-02T17:35:52.958636Z"
    },
    "hidden": true
   },
   "outputs": [
    {
     "data": {
      "image/png": "[encoded data removed]",
      "text/plain": [
       "<PIL.Image.Image image mode=RGB size=224x224 at 0x7F2AE43CE3D0>"
      ]
     },
     "execution_count": 11,
     "metadata": {},
     "output_type": "execute_result"
    }
   ],
   "source": [
    "tensorToImage(img)"
   ]
  },
  {
   "cell_type": "code",
   "execution_count": 12,
   "metadata": {
    "ExecuteTime": {
     "end_time": "2020-01-02T17:35:52.999159Z",
     "start_time": "2020-01-02T17:35:52.994909Z"
    },
    "hidden": true,
    "run_control": {
     "marked": false
    }
   },
   "outputs": [],
   "source": [
    "bs = 100\n",
    "trainDataLoader = DataLoader(dataset=trainDataset, batch_size=bs, shuffle=True)\n",
    "validDataLoader = DataLoader(dataset=validDataset, batch_size=bs)"
   ]
  },
  {
   "cell_type": "markdown",
   "metadata": {
    "heading_collapsed": true
   },
   "source": [
    "# Model Setup"
   ]
  },
  {
   "cell_type": "markdown",
   "metadata": {
    "heading_collapsed": true,
    "hidden": true
   },
   "source": [
    "## Model Arch 1"
   ]
  },
  {
   "cell_type": "code",
   "execution_count": 13,
   "metadata": {
    "ExecuteTime": {
     "end_time": "2020-01-02T17:35:53.005872Z",
     "start_time": "2020-01-02T17:35:53.001268Z"
    },
    "hidden": true,
    "run_control": {
     "marked": false
    },
    "scrolled": true
   },
   "outputs": [],
   "source": [
    "def untrained_resnet():\n",
    "    model = torchvision.models.resnet50(pretrained=False)\n",
    "    model.fc = torch.nn.Linear(in_features=2048, out_features=10)\n",
    "    model = model.cuda()\n",
    "    return model"
   ]
  },
  {
   "cell_type": "markdown",
   "metadata": {
    "heading_collapsed": true,
    "hidden": true
   },
   "source": [
    "## Dispatch Model"
   ]
  },
  {
   "cell_type": "code",
   "execution_count": 14,
   "metadata": {
    "ExecuteTime": {
     "end_time": "2020-01-02T17:35:53.010566Z",
     "start_time": "2020-01-02T17:35:53.007640Z"
    },
    "hidden": true,
    "run_control": {
     "marked": false
    }
   },
   "outputs": [],
   "source": [
    "dispatcher={'untrained_resnet':untrained_resnet}"
   ]
  },
  {
   "cell_type": "code",
   "execution_count": 15,
   "metadata": {
    "ExecuteTime": {
     "end_time": "2020-01-02T17:35:53.016559Z",
     "start_time": "2020-01-02T17:35:53.012377Z"
    },
    "hidden": true,
    "run_control": {
     "marked": false
    },
    "scrolled": true
   },
   "outputs": [],
   "source": [
    "def create_model():\n",
    "    model = dispatcher[model_type]()\n",
    "    if (preload_model):\n",
    "        pretrained_model_params = torch.load(pretrained_model_path)\n",
    "        print(model.load_state_dict(pretrained_model_params))\n",
    "    return model"
   ]
  },
  {
   "cell_type": "code",
   "execution_count": 16,
   "metadata": {
    "ExecuteTime": {
     "end_time": "2020-01-02T17:35:53.745621Z",
     "start_time": "2020-01-02T17:35:53.018335Z"
    },
    "hidden": true,
    "run_control": {
     "marked": false
    }
   },
   "outputs": [],
   "source": [
    "model = create_model()"
   ]
  },
  {
   "cell_type": "markdown",
   "metadata": {
    "heading_collapsed": true,
    "hidden": true
   },
   "source": [
    "## Parameters, Freezing/Unfreezing"
   ]
  },
  {
   "cell_type": "code",
   "execution_count": 17,
   "metadata": {
    "ExecuteTime": {
     "end_time": "2020-01-02T17:35:53.752571Z",
     "start_time": "2020-01-02T17:35:53.747739Z"
    },
    "hidden": true,
    "run_control": {
     "marked": false
    }
   },
   "outputs": [],
   "source": [
    "def freezer():\n",
    "    # --- Freeze Layer 1 and Layer 2 Parameters ---\n",
    "    for param in model.named_parameters():\n",
    "        if ('layer1' in param[0] or 'layer2' in param[0]):\n",
    "            param[1].requires_grad = False\n",
    "# freezer"
   ]
  },
  {
   "cell_type": "code",
   "execution_count": 18,
   "metadata": {
    "ExecuteTime": {
     "end_time": "2020-01-02T17:35:53.787755Z",
     "start_time": "2020-01-02T17:35:53.754623Z"
    },
    "hidden": true,
    "run_control": {
     "marked": false
    },
    "scrolled": true
   },
   "outputs": [
    {
     "name": "stdout",
     "output_type": "stream",
     "text": [
      "conv1.weight\n",
      "bn1.weight\n",
      "bn1.bias\n",
      "layer1.0.conv1.weight\n",
      "layer1.0.bn1.weight\n",
      "layer1.0.bn1.bias\n",
      "layer1.0.conv2.weight\n",
      "layer1.0.bn2.weight\n",
      "layer1.0.bn2.bias\n",
      "layer1.0.conv3.weight\n",
      "layer1.0.bn3.weight\n",
      "layer1.0.bn3.bias\n",
      "layer1.0.downsample.0.weight\n",
      "layer1.0.downsample.1.weight\n",
      "layer1.0.downsample.1.bias\n",
      "layer1.1.conv1.weight\n",
      "layer1.1.bn1.weight\n",
      "layer1.1.bn1.bias\n",
      "layer1.1.conv2.weight\n",
      "layer1.1.bn2.weight\n",
      "layer1.1.bn2.bias\n",
      "layer1.1.conv3.weight\n",
      "layer1.1.bn3.weight\n",
      "layer1.1.bn3.bias\n",
      "layer1.2.conv1.weight\n",
      "layer1.2.bn1.weight\n",
      "layer1.2.bn1.bias\n",
      "layer1.2.conv2.weight\n",
      "layer1.2.bn2.weight\n",
      "layer1.2.bn2.bias\n",
      "layer1.2.conv3.weight\n",
      "layer1.2.bn3.weight\n",
      "layer1.2.bn3.bias\n",
      "layer2.0.conv1.weight\n",
      "layer2.0.bn1.weight\n",
      "layer2.0.bn1.bias\n",
      "layer2.0.conv2.weight\n",
      "layer2.0.bn2.weight\n",
      "layer2.0.bn2.bias\n",
      "layer2.0.conv3.weight\n",
      "layer2.0.bn3.weight\n",
      "layer2.0.bn3.bias\n",
      "layer2.0.downsample.0.weight\n",
      "layer2.0.downsample.1.weight\n",
      "layer2.0.downsample.1.bias\n",
      "layer2.1.conv1.weight\n",
      "layer2.1.bn1.weight\n",
      "layer2.1.bn1.bias\n",
      "layer2.1.conv2.weight\n",
      "layer2.1.bn2.weight\n",
      "layer2.1.bn2.bias\n",
      "layer2.1.conv3.weight\n",
      "layer2.1.bn3.weight\n",
      "layer2.1.bn3.bias\n",
      "layer2.2.conv1.weight\n",
      "layer2.2.bn1.weight\n",
      "layer2.2.bn1.bias\n",
      "layer2.2.conv2.weight\n",
      "layer2.2.bn2.weight\n",
      "layer2.2.bn2.bias\n",
      "layer2.2.conv3.weight\n",
      "layer2.2.bn3.weight\n",
      "layer2.2.bn3.bias\n",
      "layer2.3.conv1.weight\n",
      "layer2.3.bn1.weight\n",
      "layer2.3.bn1.bias\n",
      "layer2.3.conv2.weight\n",
      "layer2.3.bn2.weight\n",
      "layer2.3.bn2.bias\n",
      "layer2.3.conv3.weight\n",
      "layer2.3.bn3.weight\n",
      "layer2.3.bn3.bias\n",
      "layer3.0.conv1.weight\n",
      "layer3.0.bn1.weight\n",
      "layer3.0.bn1.bias\n",
      "layer3.0.conv2.weight\n",
      "layer3.0.bn2.weight\n",
      "layer3.0.bn2.bias\n",
      "layer3.0.conv3.weight\n",
      "layer3.0.bn3.weight\n",
      "layer3.0.bn3.bias\n",
      "layer3.0.downsample.0.weight\n",
      "layer3.0.downsample.1.weight\n",
      "layer3.0.downsample.1.bias\n",
      "layer3.1.conv1.weight\n",
      "layer3.1.bn1.weight\n",
      "layer3.1.bn1.bias\n",
      "layer3.1.conv2.weight\n",
      "layer3.1.bn2.weight\n",
      "layer3.1.bn2.bias\n",
      "layer3.1.conv3.weight\n",
      "layer3.1.bn3.weight\n",
      "layer3.1.bn3.bias\n",
      "layer3.2.conv1.weight\n",
      "layer3.2.bn1.weight\n",
      "layer3.2.bn1.bias\n",
      "layer3.2.conv2.weight\n",
      "layer3.2.bn2.weight\n",
      "layer3.2.bn2.bias\n",
      "layer3.2.conv3.weight\n",
      "layer3.2.bn3.weight\n",
      "layer3.2.bn3.bias\n",
      "layer3.3.conv1.weight\n",
      "layer3.3.bn1.weight\n",
      "layer3.3.bn1.bias\n",
      "layer3.3.conv2.weight\n",
      "layer3.3.bn2.weight\n",
      "layer3.3.bn2.bias\n",
      "layer3.3.conv3.weight\n",
      "layer3.3.bn3.weight\n",
      "layer3.3.bn3.bias\n",
      "layer3.4.conv1.weight\n",
      "layer3.4.bn1.weight\n",
      "layer3.4.bn1.bias\n",
      "layer3.4.conv2.weight\n",
      "layer3.4.bn2.weight\n",
      "layer3.4.bn2.bias\n",
      "layer3.4.conv3.weight\n",
      "layer3.4.bn3.weight\n",
      "layer3.4.bn3.bias\n",
      "layer3.5.conv1.weight\n",
      "layer3.5.bn1.weight\n",
      "layer3.5.bn1.bias\n",
      "layer3.5.conv2.weight\n",
      "layer3.5.bn2.weight\n",
      "layer3.5.bn2.bias\n",
      "layer3.5.conv3.weight\n",
      "layer3.5.bn3.weight\n",
      "layer3.5.bn3.bias\n",
      "layer4.0.conv1.weight\n",
      "layer4.0.bn1.weight\n",
      "layer4.0.bn1.bias\n",
      "layer4.0.conv2.weight\n",
      "layer4.0.bn2.weight\n",
      "layer4.0.bn2.bias\n",
      "layer4.0.conv3.weight\n",
      "layer4.0.bn3.weight\n",
      "layer4.0.bn3.bias\n",
      "layer4.0.downsample.0.weight\n",
      "layer4.0.downsample.1.weight\n",
      "layer4.0.downsample.1.bias\n",
      "layer4.1.conv1.weight\n",
      "layer4.1.bn1.weight\n",
      "layer4.1.bn1.bias\n",
      "layer4.1.conv2.weight\n",
      "layer4.1.bn2.weight\n",
      "layer4.1.bn2.bias\n",
      "layer4.1.conv3.weight\n",
      "layer4.1.bn3.weight\n",
      "layer4.1.bn3.bias\n",
      "layer4.2.conv1.weight\n",
      "layer4.2.bn1.weight\n",
      "layer4.2.bn1.bias\n",
      "layer4.2.conv2.weight\n",
      "layer4.2.bn2.weight\n",
      "layer4.2.bn2.bias\n",
      "layer4.2.conv3.weight\n",
      "layer4.2.bn3.weight\n",
      "layer4.2.bn3.bias\n",
      "fc.weight\n",
      "fc.bias\n"
     ]
    }
   ],
   "source": [
    "layers_req_grad = 0\n",
    "tot_layers = 0\n",
    "\n",
    "params_req_grad = 0\n",
    "tot_params = 0\n",
    "\n",
    "for param in model.named_parameters():\n",
    "    print(param[0])\n",
    "    if (param[1].requires_grad):\n",
    "        layers_req_grad += 1\n",
    "        params_req_grad += param[1].nelement()\n",
    "    tot_layers += 1\n",
    "    tot_params += param[1].nelement()"
   ]
  },
  {
   "cell_type": "code",
   "execution_count": 19,
   "metadata": {
    "ExecuteTime": {
     "end_time": "2020-01-02T17:35:53.794472Z",
     "start_time": "2020-01-02T17:35:53.789918Z"
    },
    "hidden": true,
    "run_control": {
     "marked": false
    }
   },
   "outputs": [
    {
     "name": "stdout",
     "output_type": "stream",
     "text": [
      "161 layers require gradients (unfrozen) out of 161 layers\n",
      "23,528,522 parameters require gradients (unfrozen) out of 23,528,522 parameters\n"
     ]
    }
   ],
   "source": [
    "print(\"{0:,} layers require gradients (unfrozen) out of {1:,} layers\".format(layers_req_grad, tot_layers))\n",
    "print(\"{0:,} parameters require gradients (unfrozen) out of {1:,} parameters\".format(params_req_grad, tot_params))"
   ]
  },
  {
   "cell_type": "markdown",
   "metadata": {
    "heading_collapsed": true,
    "hidden": true
   },
   "source": [
    "## Loss Function"
   ]
  },
  {
   "cell_type": "code",
   "execution_count": 20,
   "metadata": {
    "ExecuteTime": {
     "end_time": "2020-01-02T17:35:53.801642Z",
     "start_time": "2020-01-02T17:35:53.796409Z"
    },
    "hidden": true,
    "run_control": {
     "marked": false
    }
   },
   "outputs": [
    {
     "data": {
      "text/plain": [
       "CrossEntropyLoss()"
      ]
     },
     "execution_count": 20,
     "metadata": {},
     "output_type": "execute_result"
    }
   ],
   "source": [
    "loss_func = torch.nn.CrossEntropyLoss()\n",
    "loss_func"
   ]
  },
  {
   "cell_type": "markdown",
   "metadata": {
    "heading_collapsed": true,
    "hidden": true
   },
   "source": [
    "## Forward Pass Playground"
   ]
  },
  {
   "cell_type": "code",
   "execution_count": 21,
   "metadata": {
    "ExecuteTime": {
     "end_time": "2020-01-02T17:35:54.619960Z",
     "start_time": "2020-01-02T17:35:53.803615Z"
    },
    "hidden": true,
    "run_control": {
     "marked": false
    }
   },
   "outputs": [],
   "source": [
    "sampleBatch = next(iter(trainDataLoader))"
   ]
  },
  {
   "cell_type": "code",
   "execution_count": 22,
   "metadata": {
    "ExecuteTime": {
     "end_time": "2020-01-02T17:35:55.231533Z",
     "start_time": "2020-01-02T17:35:54.622052Z"
    },
    "hidden": true,
    "run_control": {
     "marked": false
    }
   },
   "outputs": [
    {
     "data": {
      "text/plain": [
       "torch.Size([100, 10])"
      ]
     },
     "execution_count": 22,
     "metadata": {},
     "output_type": "execute_result"
    }
   ],
   "source": [
    "with torch.no_grad():\n",
    "    imgs = sampleBatch[0].cuda()\n",
    "    labels = sampleBatch[1].cuda()\n",
    "    preds = model(imgs)\n",
    "    \n",
    "preds.shape"
   ]
  },
  {
   "cell_type": "code",
   "execution_count": 23,
   "metadata": {
    "ExecuteTime": {
     "end_time": "2020-01-02T17:35:55.239785Z",
     "start_time": "2020-01-02T17:35:55.235912Z"
    },
    "hidden": true,
    "run_control": {
     "marked": false
    }
   },
   "outputs": [
    {
     "data": {
      "text/plain": [
       "torch.Size([100])"
      ]
     },
     "execution_count": 23,
     "metadata": {},
     "output_type": "execute_result"
    }
   ],
   "source": [
    "labels.shape"
   ]
  },
  {
   "cell_type": "code",
   "execution_count": 24,
   "metadata": {
    "ExecuteTime": {
     "end_time": "2020-01-02T17:35:55.248588Z",
     "start_time": "2020-01-02T17:35:55.241935Z"
    },
    "hidden": true,
    "run_control": {
     "marked": false
    },
    "scrolled": true
   },
   "outputs": [
    {
     "data": {
      "text/plain": [
       "tensor(2.4415, device='cuda:0')"
      ]
     },
     "execution_count": 24,
     "metadata": {},
     "output_type": "execute_result"
    }
   ],
   "source": [
    "loss_func(preds, labels)"
   ]
  },
  {
   "cell_type": "code",
   "execution_count": 25,
   "metadata": {
    "ExecuteTime": {
     "end_time": "2020-01-02T17:35:55.254805Z",
     "start_time": "2020-01-02T17:35:55.250397Z"
    },
    "hidden": true,
    "run_control": {
     "marked": false
    },
    "scrolled": false
   },
   "outputs": [
    {
     "data": {
      "text/plain": [
       "2.441471815109253"
      ]
     },
     "execution_count": 25,
     "metadata": {},
     "output_type": "execute_result"
    }
   ],
   "source": [
    "loss_func(preds, labels).item()"
   ]
  },
  {
   "cell_type": "code",
   "execution_count": 26,
   "metadata": {
    "ExecuteTime": {
     "end_time": "2020-01-02T17:35:55.262767Z",
     "start_time": "2020-01-02T17:35:55.256686Z"
    },
    "hidden": true,
    "run_control": {
     "marked": false
    }
   },
   "outputs": [
    {
     "data": {
      "text/plain": [
       "(torch.Size([100, 10]), tensor(1., device='cuda:0'))"
      ]
     },
     "execution_count": 26,
     "metadata": {},
     "output_type": "execute_result"
    }
   ],
   "source": [
    "softedPreds = torch.softmax(preds,dim=1)\n",
    "softedPreds.shape, softedPreds[0].sum()"
   ]
  },
  {
   "cell_type": "code",
   "execution_count": 27,
   "metadata": {
    "ExecuteTime": {
     "end_time": "2020-01-02T17:35:55.272385Z",
     "start_time": "2020-01-02T17:35:55.264599Z"
    },
    "hidden": true,
    "run_control": {
     "marked": false
    }
   },
   "outputs": [
    {
     "data": {
      "text/plain": [
       "(tensor([ 0.4112,  0.2652, -0.0854,  1.2555, -0.2345, -0.5563,  0.4013, -0.0233,\n",
       "         -0.0778,  0.4301], device='cuda:0'),\n",
       " tensor([0.1114, 0.0963, 0.0678, 0.2592, 0.0584, 0.0424, 0.1103, 0.0722, 0.0683,\n",
       "         0.1136], device='cuda:0'),\n",
       " tensor(6, device='cuda:0'))"
      ]
     },
     "execution_count": 27,
     "metadata": {},
     "output_type": "execute_result"
    }
   ],
   "source": [
    "preds[0], softedPreds[0], labels[0]"
   ]
  },
  {
   "cell_type": "code",
   "execution_count": 28,
   "metadata": {
    "ExecuteTime": {
     "end_time": "2020-01-02T17:35:55.283060Z",
     "start_time": "2020-01-02T17:35:55.274115Z"
    },
    "hidden": true,
    "run_control": {
     "marked": false
    }
   },
   "outputs": [
    {
     "name": "stdout",
     "output_type": "stream",
     "text": [
      "tensor([6, 8, 5, 2, 4, 6, 8, 6, 7, 3, 7, 9, 0, 3, 3, 1, 5, 3, 7, 0, 2, 0, 6, 0,\n",
      "        7, 6, 9, 1, 2, 5, 5, 4, 5, 0, 3, 6, 7, 9, 5, 4, 1, 0, 9, 5, 5, 0, 9, 8,\n",
      "        5, 4, 9, 0, 6, 3, 4, 3, 0, 8, 1, 9, 6, 7, 4, 5, 7, 9, 7, 5, 5, 4, 7, 8,\n",
      "        1, 8, 4, 7, 9, 2, 1, 6, 3, 8, 9, 3, 0, 3, 8, 8, 6, 3, 8, 9, 7, 5, 9, 0,\n",
      "        0, 3, 7, 4], device='cuda:0')\n",
      "tensor([[3, 9],\n",
      "        [3, 9],\n",
      "        [3, 0],\n",
      "        [3, 0],\n",
      "        [3, 0]], device='cuda:0')\n"
     ]
    }
   ],
   "source": [
    "# Top K accuracy.\n",
    "k = 2\n",
    "classPreds = softedPreds.topk(k=k, dim=1)[1]\n",
    "print(labels)\n",
    "print(classPreds[:5])"
   ]
  },
  {
   "cell_type": "code",
   "execution_count": 29,
   "metadata": {
    "ExecuteTime": {
     "end_time": "2020-01-02T17:35:55.300122Z",
     "start_time": "2020-01-02T17:35:55.285098Z"
    },
    "hidden": true,
    "run_control": {
     "marked": false
    }
   },
   "outputs": [],
   "source": [
    "total_in_topK = 0\n",
    "for i, x in enumerate(labels):\n",
    "    if x in classPreds[i]:\n",
    "        total_in_topK += 1"
   ]
  },
  {
   "cell_type": "code",
   "execution_count": 30,
   "metadata": {
    "ExecuteTime": {
     "end_time": "2020-01-02T17:35:55.306107Z",
     "start_time": "2020-01-02T17:35:55.301864Z"
    },
    "hidden": true,
    "run_control": {
     "marked": false
    }
   },
   "outputs": [
    {
     "data": {
      "text/plain": [
       "(21, 100, 0.21)"
      ]
     },
     "execution_count": 30,
     "metadata": {},
     "output_type": "execute_result"
    }
   ],
   "source": [
    "tot_num = len(labels)\n",
    "total_in_topK, tot_num, total_in_topK/tot_num"
   ]
  },
  {
   "cell_type": "markdown",
   "metadata": {
    "ExecuteTime": {
     "end_time": "2020-01-02T04:41:41.482495Z",
     "start_time": "2020-01-02T04:41:41.475229Z"
    },
    "run_control": {
     "marked": false
    }
   },
   "source": [
    "# Train"
   ]
  },
  {
   "cell_type": "markdown",
   "metadata": {
    "heading_collapsed": true
   },
   "source": [
    "## Utils"
   ]
  },
  {
   "cell_type": "code",
   "execution_count": 31,
   "metadata": {
    "ExecuteTime": {
     "end_time": "2020-01-02T17:35:55.313723Z",
     "start_time": "2020-01-02T17:35:55.307944Z"
    },
    "hidden": true,
    "run_control": {
     "marked": false
    }
   },
   "outputs": [],
   "source": [
    "def calcTopK(preds, labels, k):\n",
    "    softedPreds = torch.softmax(preds,dim=1)\n",
    "    \n",
    "    # Top K accuracy.\n",
    "    classPreds = softedPreds.topk(k=k, dim=1)[1]\n",
    "    \n",
    "    total_in_topK = 0\n",
    "    for i, x in enumerate(labels):\n",
    "        if x in classPreds[i]:\n",
    "            total_in_topK += 1\n",
    "\n",
    "    tot_num = len(labels)\n",
    "    \n",
    "    return total_in_topK/tot_num"
   ]
  },
  {
   "cell_type": "code",
   "execution_count": 32,
   "metadata": {
    "ExecuteTime": {
     "end_time": "2020-01-02T17:35:55.319704Z",
     "start_time": "2020-01-02T17:35:55.315485Z"
    },
    "hidden": true,
    "run_control": {
     "marked": false
    }
   },
   "outputs": [],
   "source": [
    "def writeMessage(msg):\n",
    "    # Write to file.\n",
    "    print(msg)\n",
    "    myFile = open(\"Training Progress \" + versionName + \".txt\", \"a\")\n",
    "    myFile.write(msg)\n",
    "    myFile.write(\"\\n\")\n",
    "    myFile.close()"
   ]
  },
  {
   "cell_type": "markdown",
   "metadata": {
    "heading_collapsed": true
   },
   "source": [
    "## Training Epoch"
   ]
  },
  {
   "cell_type": "code",
   "execution_count": 33,
   "metadata": {
    "ExecuteTime": {
     "end_time": "2020-01-02T17:35:55.336459Z",
     "start_time": "2020-01-02T17:35:55.321582Z"
    },
    "hidden": true,
    "run_control": {
     "marked": false
    }
   },
   "outputs": [],
   "source": [
    "def trainEpoch(myDataLoader):\n",
    "    global tensorboard_recorder_train_step\n",
    "    running_loss = 0.0\n",
    "    running_top1 = 0.0\n",
    "    running_top2 = 0.0\n",
    "    running_top3 = 0.0\n",
    "    for i, sampleBatch in enumerate(myDataLoader, start=1):\n",
    "        \n",
    "        # --- Main Training ---\n",
    "        \n",
    "        # gpu\n",
    "        imgs = sampleBatch[0].cuda()\n",
    "        labels = sampleBatch[1].cuda()\n",
    "        \n",
    "        # zero the parameter gradients\n",
    "        opt.zero_grad()\n",
    "\n",
    "        # forward\n",
    "        preds = model(imgs)\n",
    "        \n",
    "        # loss\n",
    "        loss = loss_func(preds, labels)\n",
    "        running_loss += loss.item()\n",
    "        \n",
    "        # backward\n",
    "        loss.backward()\n",
    "        \n",
    "        # update parameters\n",
    "        opt.step()\n",
    "        \n",
    "        # --- Metrics Recording ---\n",
    "        \n",
    "        # metrics\n",
    "        top1 = calcTopK(preds, labels, k=1)\n",
    "        top2 = calcTopK(preds, labels, k=2)\n",
    "        top3 = calcTopK(preds, labels, k=3)\n",
    "        running_top1 += top1\n",
    "        running_top2 += top2\n",
    "        running_top3 += top3\n",
    "        \n",
    "        # tensorboard writes\n",
    "        if (i % tensorboard_rate == 0):\n",
    "            tensorboard_recorder_train_step += 1\n",
    "            avg_running_loss = running_loss/tensorboard_rate\n",
    "            avg_running_top1 = running_top1/tensorboard_rate\n",
    "            avg_running_top2 = running_top2/tensorboard_rate\n",
    "            avg_running_top3 = running_top3/tensorboard_rate\n",
    "            tensorboard_writer.add_scalar(tag=\"Train Cross Entropy Loss\", scalar_value=avg_running_loss, global_step=tensorboard_recorder_train_step)\n",
    "            tensorboard_writer.add_scalar(tag=\"Train Top-1 Accuracy\", scalar_value=avg_running_top1, global_step=tensorboard_recorder_train_step)\n",
    "            tensorboard_writer.add_scalar(tag=\"Train Top-2 Accuracy\", scalar_value=avg_running_top2, global_step=tensorboard_recorder_train_step)\n",
    "            tensorboard_writer.add_scalar(tag=\"Train Top-3 Accuracy\", scalar_value=avg_running_top3, global_step=tensorboard_recorder_train_step)\n",
    "            # reset running_loss for the next set of batches. (tensorboard_rate number of batches)\n",
    "            running_loss = 0.0\n",
    "            running_top1 = 0.0\n",
    "            running_top2 = 0.0\n",
    "            running_top3 = 0.0"
   ]
  },
  {
   "cell_type": "markdown",
   "metadata": {
    "heading_collapsed": true
   },
   "source": [
    "## Valid Epoch"
   ]
  },
  {
   "cell_type": "code",
   "execution_count": 34,
   "metadata": {
    "ExecuteTime": {
     "end_time": "2020-01-02T17:35:55.353685Z",
     "start_time": "2020-01-02T17:35:55.338254Z"
    },
    "hidden": true,
    "run_control": {
     "marked": false
    }
   },
   "outputs": [],
   "source": [
    "def validEpoch(myDataLoader):\n",
    "    global tensorboard_recorder_valid_step\n",
    "    running_loss = 0.0\n",
    "    running_top1 = 0.0\n",
    "    running_top2 = 0.0\n",
    "    running_top3 = 0.0\n",
    "    for i, sampleBatch in enumerate(myDataLoader, start=1):\n",
    "        \n",
    "        # --- Metrics Recording ---\n",
    "        \n",
    "        # gpu\n",
    "        imgs = sampleBatch[0].cuda()\n",
    "        labels = sampleBatch[1].cuda()\n",
    "\n",
    "        # forward, no gradient calculations\n",
    "        with torch.no_grad():\n",
    "            preds = model(imgs)\n",
    "        \n",
    "        # loss\n",
    "        loss = loss_func(preds, labels)\n",
    "        running_loss += loss.item()\n",
    "        \n",
    "        # metrics\n",
    "        top1 = calcTopK(preds, labels, k=1)\n",
    "        top2 = calcTopK(preds, labels, k=2)\n",
    "        top3 = calcTopK(preds, labels, k=3)\n",
    "        running_top1 += top1\n",
    "        running_top2 += top2\n",
    "        running_top3 += top3\n",
    "        \n",
    "        # tensorboard writes\n",
    "        if (i % tensorboard_rate == 0):\n",
    "            tensorboard_recorder_valid_step += 1\n",
    "            avg_running_loss = running_loss/tensorboard_rate\n",
    "            avg_running_top1 = running_top1/tensorboard_rate\n",
    "            avg_running_top2 = running_top2/tensorboard_rate\n",
    "            avg_running_top3 = running_top3/tensorboard_rate\n",
    "            tensorboard_writer.add_scalar(tag=\"Valid Cross Entropy Loss\", scalar_value=avg_running_loss, global_step=tensorboard_recorder_valid_step)\n",
    "            tensorboard_writer.add_scalar(tag=\"Valid Top-1 Accuracy\", scalar_value=avg_running_top1, global_step=tensorboard_recorder_valid_step)\n",
    "            tensorboard_writer.add_scalar(tag=\"Valid Top-2 Accuracy\", scalar_value=avg_running_top2, global_step=tensorboard_recorder_valid_step)\n",
    "            tensorboard_writer.add_scalar(tag=\"Valid Top-3 Accuracy\", scalar_value=avg_running_top3, global_step=tensorboard_recorder_valid_step)\n",
    "            # reset running_loss for the next set of batches. (tensorboard_rate number of batches)\n",
    "            running_loss = 0.0\n",
    "            running_top1 = 0.0\n",
    "            running_top2 = 0.0\n",
    "            running_top3 = 0.0"
   ]
  },
  {
   "cell_type": "markdown",
   "metadata": {
    "heading_collapsed": true
   },
   "source": [
    "## Set-up and Main Loop"
   ]
  },
  {
   "cell_type": "code",
   "execution_count": 35,
   "metadata": {
    "ExecuteTime": {
     "end_time": "2020-01-02T17:35:55.358911Z",
     "start_time": "2020-01-02T17:35:55.355517Z"
    },
    "hidden": true,
    "run_control": {
     "marked": false
    }
   },
   "outputs": [],
   "source": [
    "try:\n",
    "    os.mkdir(\"cps\")\n",
    "except:\n",
    "    print(\"checkpoints directory already exists :)\")"
   ]
  },
  {
   "cell_type": "code",
   "execution_count": 36,
   "metadata": {
    "ExecuteTime": {
     "end_time": "2020-01-02T17:35:56.018586Z",
     "start_time": "2020-01-02T17:35:55.360726Z"
    },
    "hidden": true,
    "run_control": {
     "marked": false
    }
   },
   "outputs": [],
   "source": [
    "from torch.utils.tensorboard import SummaryWriter\n",
    "# create a summary writer.\n",
    "tensorboard_writer = SummaryWriter(\"tensorboard_runs/model_\" + versionName)"
   ]
  },
  {
   "cell_type": "code",
   "execution_count": 37,
   "metadata": {
    "ExecuteTime": {
     "end_time": "2020-01-02T17:35:56.023749Z",
     "start_time": "2020-01-02T17:35:56.020660Z"
    },
    "hidden": true,
    "run_control": {
     "marked": false
    }
   },
   "outputs": [],
   "source": [
    "tensorboard_recorder_train_step = 0\n",
    "tensorboard_recorder_valid_step = 0"
   ]
  },
  {
   "cell_type": "code",
   "execution_count": 38,
   "metadata": {
    "ExecuteTime": {
     "end_time": "2020-01-02T17:35:56.033713Z",
     "start_time": "2020-01-02T17:35:56.025911Z"
    },
    "hidden": true,
    "run_control": {
     "marked": false
    }
   },
   "outputs": [],
   "source": [
    "def fit():\n",
    "    writeMessage('---------- Started Training ----------')\n",
    "\n",
    "    for epoch in range(1, epochs+1):  # loop over the dataset multiple times\n",
    "\n",
    "        writeMessage(\"--- Epoch {0}/{1} ---\".format(epoch, epochs))\n",
    "\n",
    "        model.train()\n",
    "        trainEpoch(trainDataLoader)\n",
    "\n",
    "        model.eval()\n",
    "        validEpoch(validDataLoader)\n",
    "        \n",
    "        if (epoch % checkpoint_rate == 0):\n",
    "            torch.save(model.state_dict(), 'cps/model_'+versionName+'_epoch_'+str(epoch))\n",
    "\n",
    "    writeMessage('---------- Finished Training ----------')"
   ]
  },
  {
   "cell_type": "markdown",
   "metadata": {},
   "source": [
    "## Start Training"
   ]
  },
  {
   "cell_type": "code",
   "execution_count": 39,
   "metadata": {
    "ExecuteTime": {
     "end_time": "2020-01-02T17:35:56.044120Z",
     "start_time": "2020-01-02T17:35:56.036065Z"
    }
   },
   "outputs": [
    {
     "name": "stderr",
     "output_type": "stream",
     "text": [
      "/home/saini5/anaconda3/lib/python3.7/site-packages/tqdm/autonotebook.py:17: TqdmExperimentalWarning: Using `tqdm.autonotebook.tqdm` in notebook mode. Use `tqdm.tqdm` instead to force console mode (e.g. in jupyter console)\n",
      "  \" (e.g. in jupyter console)\", TqdmExperimentalWarning)\n"
     ]
    }
   ],
   "source": [
    "from torch_lr_finder import LRFinder"
   ]
  },
  {
   "cell_type": "code",
   "execution_count": 40,
   "metadata": {
    "ExecuteTime": {
     "end_time": "2020-01-02T17:35:56.053028Z",
     "start_time": "2020-01-02T17:35:56.046456Z"
    }
   },
   "outputs": [
    {
     "data": {
      "text/plain": [
       "Adam (\n",
       "Parameter Group 0\n",
       "    amsgrad: False\n",
       "    betas: (0.9, 0.999)\n",
       "    eps: 1e-08\n",
       "    lr: 1e-07\n",
       "    weight_decay: 0\n",
       ")"
      ]
     },
     "execution_count": 40,
     "metadata": {},
     "output_type": "execute_result"
    }
   ],
   "source": [
    "opt = torch.optim.Adam(model.parameters(), lr=1e-7)\n",
    "opt"
   ]
  },
  {
   "cell_type": "code",
   "execution_count": 41,
   "metadata": {
    "ExecuteTime": {
     "end_time": "2020-01-02T17:41:24.855652Z",
     "start_time": "2020-01-02T17:35:56.055243Z"
    }
   },
   "outputs": [
    {
     "data": {
      "application/vnd.jupyter.widget-view+json": {
       "model_id": "a465f368443c463d95896d1f8e1ab88d",
       "version_major": 2,
       "version_minor": 0
      },
      "text/plain": [
       "HBox(children=(IntProgress(value=0, max=200), HTML(value='')))"
      ]
     },
     "metadata": {},
     "output_type": "display_data"
    },
    {
     "name": "stdout",
     "output_type": "stream",
     "text": [
      "Stopping early, the loss has diverged\n",
      "Learning rate search finished. See the graph with {finder_name}.plot()\n"
     ]
    },
    {
     "data": {
      "image/png": "[encoded data removed]",
      "text/plain": [
       "<Figure size 432x288 with 1 Axes>"
      ]
     },
     "metadata": {
      "needs_background": "light"
     },
     "output_type": "display_data"
    }
   ],
   "source": [
    "lr_finder = LRFinder(model=model, optimizer=opt, criterion=loss_func, device=\"cuda\")\n",
    "lr_finder.range_test(trainDataLoader, end_lr=100, num_iter=200)\n",
    "lr_finder.plot()\n",
    "# reset model & opt to their original weights\n",
    "lr_finder.reset()"
   ]
  },
  {
   "cell_type": "code",
   "execution_count": 42,
   "metadata": {
    "ExecuteTime": {
     "end_time": "2020-01-02T17:42:39.171585Z",
     "start_time": "2020-01-02T17:42:39.166794Z"
    }
   },
   "outputs": [],
   "source": [
    "opt = torch.optim.Adam(model.parameters(), lr=3e-4)"
   ]
  },
  {
   "cell_type": "code",
   "execution_count": 43,
   "metadata": {
    "ExecuteTime": {
     "end_time": "2020-01-02T18:23:02.618158Z",
     "start_time": "2020-01-02T17:42:39.682307Z"
    },
    "run_control": {
     "marked": false
    }
   },
   "outputs": [
    {
     "name": "stdout",
     "output_type": "stream",
     "text": [
      "---------- Started Training ----------\n",
      "--- Epoch 1/10 ---\n",
      "--- Epoch 2/10 ---\n",
      "--- Epoch 3/10 ---\n",
      "--- Epoch 4/10 ---\n",
      "--- Epoch 5/10 ---\n",
      "--- Epoch 6/10 ---\n",
      "--- Epoch 7/10 ---\n",
      "--- Epoch 8/10 ---\n",
      "--- Epoch 9/10 ---\n",
      "--- Epoch 10/10 ---\n",
      "---------- Finished Training ----------\n"
     ]
    }
   ],
   "source": [
    "fit()"
   ]
  },
  {
   "cell_type": "code",
   "execution_count": 44,
   "metadata": {
    "ExecuteTime": {
     "end_time": "2020-01-02T18:26:21.764132Z",
     "start_time": "2020-01-02T18:26:21.760605Z"
    }
   },
   "outputs": [],
   "source": [
    "opt.param_groups[0]['lr'] = 1e-7"
   ]
  },
  {
   "cell_type": "code",
   "execution_count": 45,
   "metadata": {
    "ExecuteTime": {
     "end_time": "2020-01-02T18:29:48.663741Z",
     "start_time": "2020-01-02T18:26:23.196201Z"
    }
   },
   "outputs": [
    {
     "data": {
      "application/vnd.jupyter.widget-view+json": {
       "model_id": "08421c826e994d16b06beba6434411e8",
       "version_major": 2,
       "version_minor": 0
      },
      "text/plain": [
       "HBox(children=(IntProgress(value=0, max=200), HTML(value='')))"
      ]
     },
     "metadata": {},
     "output_type": "display_data"
    },
    {
     "name": "stdout",
     "output_type": "stream",
     "text": [
      "Stopping early, the loss has diverged\n",
      "Learning rate search finished. See the graph with {finder_name}.plot()\n"
     ]
    },
    {
     "data": {
      "image/png": "[encoded data removed]",
      "text/plain": [
       "<Figure size 432x288 with 1 Axes>"
      ]
     },
     "metadata": {
      "needs_background": "light"
     },
     "output_type": "display_data"
    }
   ],
   "source": [
    "lr_finder = LRFinder(model=model, optimizer=opt, criterion=loss_func, device=\"cuda\")\n",
    "lr_finder.range_test(trainDataLoader, end_lr=100, num_iter=200)\n",
    "lr_finder.plot()\n",
    "# reset model & opt to their original weights\n",
    "lr_finder.reset()"
   ]
  },
  {
   "cell_type": "code",
   "execution_count": 46,
   "metadata": {
    "ExecuteTime": {
     "end_time": "2020-01-02T18:29:52.637329Z",
     "start_time": "2020-01-02T18:29:52.633685Z"
    }
   },
   "outputs": [],
   "source": [
    "opt.param_groups[0]['lr'] = 3e-4"
   ]
  },
  {
   "cell_type": "code",
   "execution_count": 47,
   "metadata": {
    "ExecuteTime": {
     "end_time": "2020-01-02T19:10:24.190018Z",
     "start_time": "2020-01-02T18:29:53.911549Z"
    }
   },
   "outputs": [
    {
     "name": "stdout",
     "output_type": "stream",
     "text": [
      "---------- Started Training ----------\n",
      "--- Epoch 1/10 ---\n",
      "--- Epoch 2/10 ---\n",
      "--- Epoch 3/10 ---\n",
      "--- Epoch 4/10 ---\n",
      "--- Epoch 5/10 ---\n",
      "--- Epoch 6/10 ---\n",
      "--- Epoch 7/10 ---\n",
      "--- Epoch 8/10 ---\n",
      "--- Epoch 9/10 ---\n",
      "--- Epoch 10/10 ---\n",
      "---------- Finished Training ----------\n"
     ]
    }
   ],
   "source": [
    "fit()"
   ]
  },
  {
   "cell_type": "code",
   "execution_count": 48,
   "metadata": {
    "ExecuteTime": {
     "end_time": "2020-01-02T19:10:24.195856Z",
     "start_time": "2020-01-02T19:10:24.192441Z"
    }
   },
   "outputs": [],
   "source": [
    "opt.param_groups[0]['lr'] = 1e-7"
   ]
  },
  {
   "cell_type": "code",
   "execution_count": 49,
   "metadata": {
    "ExecuteTime": {
     "end_time": "2020-01-02T19:13:44.362977Z",
     "start_time": "2020-01-02T19:10:24.198140Z"
    }
   },
   "outputs": [
    {
     "data": {
      "application/vnd.jupyter.widget-view+json": {
       "model_id": "b8cbc40fa1b5411a855565689fa31c2a",
       "version_major": 2,
       "version_minor": 0
      },
      "text/plain": [
       "HBox(children=(IntProgress(value=0, max=200), HTML(value='')))"
      ]
     },
     "metadata": {},
     "output_type": "display_data"
    },
    {
     "name": "stdout",
     "output_type": "stream",
     "text": [
      "Stopping early, the loss has diverged\n",
      "Learning rate search finished. See the graph with {finder_name}.plot()\n"
     ]
    },
    {
     "data": {
      "image/png": "[encoded data removed]",
      "text/plain": [
       "<Figure size 432x288 with 1 Axes>"
      ]
     },
     "metadata": {
      "needs_background": "light"
     },
     "output_type": "display_data"
    }
   ],
   "source": [
    "lr_finder = LRFinder(model=model, optimizer=opt, criterion=loss_func, device=\"cuda\")\n",
    "lr_finder.range_test(trainDataLoader, end_lr=100, num_iter=200)\n",
    "lr_finder.plot()\n",
    "# reset model & opt to their original weights\n",
    "lr_finder.reset()"
   ]
  },
  {
   "cell_type": "code",
   "execution_count": 50,
   "metadata": {
    "ExecuteTime": {
     "end_time": "2020-01-02T19:13:44.367931Z",
     "start_time": "2020-01-02T19:13:44.365069Z"
    }
   },
   "outputs": [],
   "source": [
    "epochs = 5"
   ]
  },
  {
   "cell_type": "code",
   "execution_count": 51,
   "metadata": {
    "ExecuteTime": {
     "end_time": "2020-01-02T19:15:54.017759Z",
     "start_time": "2020-01-02T19:15:54.014027Z"
    }
   },
   "outputs": [],
   "source": [
    "opt.param_groups[0]['lr'] = 8e-5"
   ]
  },
  {
   "cell_type": "code",
   "execution_count": 52,
   "metadata": {
    "ExecuteTime": {
     "end_time": "2020-01-02T19:36:09.392863Z",
     "start_time": "2020-01-02T19:15:54.518180Z"
    }
   },
   "outputs": [
    {
     "name": "stdout",
     "output_type": "stream",
     "text": [
      "---------- Started Training ----------\n",
      "--- Epoch 1/5 ---\n",
      "--- Epoch 2/5 ---\n",
      "--- Epoch 3/5 ---\n",
      "--- Epoch 4/5 ---\n",
      "--- Epoch 5/5 ---\n",
      "---------- Finished Training ----------\n"
     ]
    }
   ],
   "source": [
    "fit()"
   ]
  },
  {
   "cell_type": "markdown",
   "metadata": {
    "heading_collapsed": true
   },
   "source": [
    "# Fin"
   ]
  }
 ],
 "metadata": {
  "kernelspec": {
   "display_name": "Python 3",
   "language": "python",
   "name": "python3"
  },
  "language_info": {
   "codemirror_mode": {
    "name": "ipython",
    "version": 3
   },
   "file_extension": ".py",
   "mimetype": "text/x-python",
   "name": "python",
   "nbconvert_exporter": "python",
   "pygments_lexer": "ipython3",
   "version": "3.7.4"
  }
 },
 "nbformat": 4,
 "nbformat_minor": 2
}
