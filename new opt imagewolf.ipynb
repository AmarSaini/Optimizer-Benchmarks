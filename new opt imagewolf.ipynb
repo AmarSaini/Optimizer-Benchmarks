{
 "cells": [
  {
   "cell_type": "markdown",
   "metadata": {},
   "source": [
    "# Settings, Imports, Util Functions"
   ]
  },
  {
   "cell_type": "markdown",
   "metadata": {},
   "source": [
    "## Settings"
   ]
  },
  {
   "cell_type": "code",
   "execution_count": 1,
   "metadata": {
    "ExecuteTime": {
     "end_time": "2020-01-02T17:35:48.498837Z",
     "start_time": "2020-01-02T17:35:48.493301Z"
    },
    "run_control": {
     "marked": false
    }
   },
   "outputs": [],
   "source": [
    "model_type = 'untrained_resnet'\n",
    "\n",
    "# model name, for tensorboard recording and checkpointing purposes.\n",
    "versionName = \"new opt imagewolf\"\n",
    "\n",
    "# GPU Numbers to use. Comma seprate them for multi-GPUs.\n",
    "gpu_ids = \"7\"\n",
    "\n",
    "preload_model = False\n",
    "\n",
    "if (preload_model):\n",
    "    # path to load model params.\n",
    "    pretrained_model_path = 'cps/a'\n",
    "    \n",
    "else:\n",
    "    pretrained_model_path = 'N/A'\n",
    "\n",
    "# rate at which to record metrics. (number of batches to average over when recording metrics, e.g. \"every 5 batches\")\n",
    "tensorboard_rate = 5\n",
    "\n",
    "# checkpoint rate. (save model every x epochs)\n",
    "checkpoint_rate = 10\n",
    "\n",
    "# number of epochs to train.\n",
    "epochs = 10"
   ]
  },
  {
   "cell_type": "markdown",
   "metadata": {
    "heading_collapsed": true
   },
   "source": [
    "## Imports"
   ]
  },
  {
   "cell_type": "code",
   "execution_count": 2,
   "metadata": {
    "ExecuteTime": {
     "end_time": "2020-01-02T17:35:49.620589Z",
     "start_time": "2020-01-02T17:35:48.500999Z"
    },
    "hidden": true,
    "run_control": {
     "marked": false
    }
   },
   "outputs": [],
   "source": [
    "# --- Must haves ---\n",
    "import torch\n",
    "import torchvision\n",
    "from torch.utils.data import Dataset, DataLoader\n",
    "from torch import cuda\n",
    "\n",
    "import pickle\n",
    "import random\n",
    "from pathlib import Path\n",
    "import os\n",
    "\n",
    "import numpy as np\n",
    "import matplotlib.pyplot as plt\n",
    "import matplotlib.animation as animation\n",
    "\n",
    "from PIL import Image\n",
    "from torchvision import transforms"
   ]
  },
  {
   "cell_type": "markdown",
   "metadata": {},
   "source": [
    "## Util Functions"
   ]
  },
  {
   "cell_type": "code",
   "execution_count": 3,
   "metadata": {
    "ExecuteTime": {
     "end_time": "2020-01-02T17:35:49.627205Z",
     "start_time": "2020-01-02T17:35:49.623604Z"
    },
    "run_control": {
     "marked": false
    }
   },
   "outputs": [],
   "source": [
    "# --- Functions to convert between Torch Tensors and PIL Images\n",
    "tensorToImage = torchvision.transforms.ToPILImage()\n",
    "imageToTensor = torchvision.transforms.ToTensor()"
   ]
  },
  {
   "cell_type": "markdown",
   "metadata": {
    "heading_collapsed": true
   },
   "source": [
    "# Datasets"
   ]
  },
  {
   "cell_type": "markdown",
   "metadata": {
    "heading_collapsed": true,
    "hidden": true
   },
   "source": [
    "## Dataset from Class"
   ]
  },
  {
   "cell_type": "code",
   "execution_count": 8,
   "metadata": {
    "ExecuteTime": {
     "end_time": "2020-01-02T17:35:55.884236Z",
     "start_time": "2020-01-02T17:35:55.872580Z"
    },
    "hidden": true,
    "run_control": {
     "marked": false
    }
   },
   "outputs": [],
   "source": [
    "class Imagenette_Dataset(Dataset):\n",
    "    \n",
    "    def __init__(self, root_path, tfms=None):\n",
    "        self.root_path = Path(root_path)\n",
    "        self.tfms = tfms\n",
    "        \n",
    "        self.label_to_index = {label_path.name:i for i,label_path in enumerate(self.root_path.iterdir())}\n",
    "        self.index_to_label = {i:label_path.name for i,label_path in enumerate(self.root_path.iterdir())}\n",
    "        \n",
    "        self.imgs = []\n",
    "        for label_path in self.root_path.iterdir():\n",
    "            self.imgs += list(label_path.iterdir())\n",
    "        \n",
    "    def __len__(self):\n",
    "        return len(self.imgs)\n",
    "    \n",
    "    def __getitem__(self, idx):\n",
    "        label_name = trainDataset.imgs[idx].parent.name\n",
    "        img = Image.open(trainDataset.imgs[idx]).convert('RGB')\n",
    "        \n",
    "        img = self.tfms(img)\n",
    "        \n",
    "        return img, self.label_to_index[label_name]"
   ]
  },
  {
   "cell_type": "code",
   "execution_count": 9,
   "metadata": {
    "ExecuteTime": {
     "end_time": "2020-01-02T17:35:55.942144Z",
     "start_time": "2020-01-02T17:35:55.886764Z"
    },
    "hidden": true
   },
   "outputs": [
    {
     "data": {
      "text/plain": [
       "(9025, 3929)"
      ]
     },
     "execution_count": 9,
     "metadata": {},
     "output_type": "execute_result"
    }
   ],
   "source": [
    "train_tfms = transforms.Compose([transforms.Resize((224, 224)), transforms.ToTensor()])\n",
    "trainDataset = Imagenette_Dataset('imagewoof2-320/train/', train_tfms)\n",
    "\n",
    "valid_tfms = transforms.Compose([transforms.Resize((224, 224)), transforms.ToTensor()])\n",
    "validDataset = Imagenette_Dataset('imagewoof2-320/val/', valid_tfms)\n",
    "\n",
    "len(trainDataset), len(validDataset)"
   ]
  },
  {
   "cell_type": "code",
   "execution_count": 10,
   "metadata": {
    "ExecuteTime": {
     "end_time": "2020-01-02T17:35:56.006218Z",
     "start_time": "2020-01-02T17:35:55.944065Z"
    },
    "hidden": true,
    "run_control": {
     "marked": false
    }
   },
   "outputs": [
    {
     "data": {
      "text/plain": [
       "(0, torch.Size([3, 224, 224]))"
      ]
     },
     "execution_count": 10,
     "metadata": {},
     "output_type": "execute_result"
    }
   ],
   "source": [
    "img, label = trainDataset[72]\n",
    "label, img.shape"
   ]
  },
  {
   "cell_type": "code",
   "execution_count": 11,
   "metadata": {
    "ExecuteTime": {
     "end_time": "2020-01-02T17:35:56.069539Z",
     "start_time": "2020-01-02T17:35:56.008352Z"
    },
    "hidden": true
   },
   "outputs": [
    {
     "data": {
      "image/png": "[encoded data removed]",
      "text/plain": [
       "<PIL.Image.Image image mode=RGB size=224x224 at 0x7FA4329AFDD0>"
      ]
     },
     "execution_count": 11,
     "metadata": {},
     "output_type": "execute_result"
    }
   ],
   "source": [
    "tensorToImage(img)"
   ]
  },
  {
   "cell_type": "code",
   "execution_count": 12,
   "metadata": {
    "ExecuteTime": {
     "end_time": "2020-01-02T17:35:56.076053Z",
     "start_time": "2020-01-02T17:35:56.071666Z"
    },
    "hidden": true,
    "run_control": {
     "marked": false
    }
   },
   "outputs": [],
   "source": [
    "bs = 100\n",
    "trainDataLoader = DataLoader(dataset=trainDataset, batch_size=bs, shuffle=True)\n",
    "validDataLoader = DataLoader(dataset=validDataset, batch_size=bs)"
   ]
  },
  {
   "cell_type": "markdown",
   "metadata": {
    "heading_collapsed": true
   },
   "source": [
    "# Model Setup"
   ]
  },
  {
   "cell_type": "markdown",
   "metadata": {
    "heading_collapsed": true,
    "hidden": true
   },
   "source": [
    "## Model Arch 1"
   ]
  },
  {
   "cell_type": "code",
   "execution_count": 13,
   "metadata": {
    "ExecuteTime": {
     "end_time": "2020-01-02T17:35:56.084962Z",
     "start_time": "2020-01-02T17:35:56.078093Z"
    },
    "hidden": true,
    "run_control": {
     "marked": false
    },
    "scrolled": true
   },
   "outputs": [],
   "source": [
    "def untrained_resnet():\n",
    "    model = torchvision.models.resnet50(pretrained=False)\n",
    "    model.fc = torch.nn.Linear(in_features=2048, out_features=10)\n",
    "    model = model.cuda()\n",
    "    return model"
   ]
  },
  {
   "cell_type": "markdown",
   "metadata": {
    "heading_collapsed": true,
    "hidden": true
   },
   "source": [
    "## Dispatch Model"
   ]
  },
  {
   "cell_type": "code",
   "execution_count": 14,
   "metadata": {
    "ExecuteTime": {
     "end_time": "2020-01-02T17:35:56.091733Z",
     "start_time": "2020-01-02T17:35:56.086979Z"
    },
    "hidden": true,
    "run_control": {
     "marked": false
    }
   },
   "outputs": [],
   "source": [
    "dispatcher={'untrained_resnet':untrained_resnet}"
   ]
  },
  {
   "cell_type": "code",
   "execution_count": 15,
   "metadata": {
    "ExecuteTime": {
     "end_time": "2020-01-02T17:35:56.101652Z",
     "start_time": "2020-01-02T17:35:56.093801Z"
    },
    "hidden": true,
    "run_control": {
     "marked": false
    },
    "scrolled": true
   },
   "outputs": [],
   "source": [
    "def create_model():\n",
    "    model = dispatcher[model_type]()\n",
    "    if (preload_model):\n",
    "        pretrained_model_params = torch.load(pretrained_model_path)\n",
    "        print(model.load_state_dict(pretrained_model_params))\n",
    "    return model"
   ]
  },
  {
   "cell_type": "code",
   "execution_count": 16,
   "metadata": {
    "ExecuteTime": {
     "end_time": "2020-01-02T17:35:57.183141Z",
     "start_time": "2020-01-02T17:35:56.103626Z"
    },
    "hidden": true,
    "run_control": {
     "marked": false
    }
   },
   "outputs": [],
   "source": [
    "model = create_model()"
   ]
  },
  {
   "cell_type": "markdown",
   "metadata": {
    "heading_collapsed": true,
    "hidden": true
   },
   "source": [
    "## Parameters, Freezing/Unfreezing"
   ]
  },
  {
   "cell_type": "code",
   "execution_count": 17,
   "metadata": {
    "ExecuteTime": {
     "end_time": "2020-01-02T17:35:57.190162Z",
     "start_time": "2020-01-02T17:35:57.185352Z"
    },
    "hidden": true,
    "run_control": {
     "marked": false
    }
   },
   "outputs": [],
   "source": [
    "def freezer():\n",
    "    # --- Freeze Layer 1 and Layer 2 Parameters ---\n",
    "    for param in model.named_parameters():\n",
    "        if ('layer1' in param[0] or 'layer2' in param[0]):\n",
    "            param[1].requires_grad = False\n",
    "# freezer"
   ]
  },
  {
   "cell_type": "code",
   "execution_count": 18,
   "metadata": {
    "ExecuteTime": {
     "end_time": "2020-01-02T17:35:57.221533Z",
     "start_time": "2020-01-02T17:35:57.192193Z"
    },
    "hidden": true,
    "run_control": {
     "marked": false
    },
    "scrolled": true
   },
   "outputs": [
    {
     "name": "stdout",
     "output_type": "stream",
     "text": [
      "conv1.weight\n",
      "bn1.weight\n",
      "bn1.bias\n",
      "layer1.0.conv1.weight\n",
      "layer1.0.bn1.weight\n",
      "layer1.0.bn1.bias\n",
      "layer1.0.conv2.weight\n",
      "layer1.0.bn2.weight\n",
      "layer1.0.bn2.bias\n",
      "layer1.0.conv3.weight\n",
      "layer1.0.bn3.weight\n",
      "layer1.0.bn3.bias\n",
      "layer1.0.downsample.0.weight\n",
      "layer1.0.downsample.1.weight\n",
      "layer1.0.downsample.1.bias\n",
      "layer1.1.conv1.weight\n",
      "layer1.1.bn1.weight\n",
      "layer1.1.bn1.bias\n",
      "layer1.1.conv2.weight\n",
      "layer1.1.bn2.weight\n",
      "layer1.1.bn2.bias\n",
      "layer1.1.conv3.weight\n",
      "layer1.1.bn3.weight\n",
      "layer1.1.bn3.bias\n",
      "layer1.2.conv1.weight\n",
      "layer1.2.bn1.weight\n",
      "layer1.2.bn1.bias\n",
      "layer1.2.conv2.weight\n",
      "layer1.2.bn2.weight\n",
      "layer1.2.bn2.bias\n",
      "layer1.2.conv3.weight\n",
      "layer1.2.bn3.weight\n",
      "layer1.2.bn3.bias\n",
      "layer2.0.conv1.weight\n",
      "layer2.0.bn1.weight\n",
      "layer2.0.bn1.bias\n",
      "layer2.0.conv2.weight\n",
      "layer2.0.bn2.weight\n",
      "layer2.0.bn2.bias\n",
      "layer2.0.conv3.weight\n",
      "layer2.0.bn3.weight\n",
      "layer2.0.bn3.bias\n",
      "layer2.0.downsample.0.weight\n",
      "layer2.0.downsample.1.weight\n",
      "layer2.0.downsample.1.bias\n",
      "layer2.1.conv1.weight\n",
      "layer2.1.bn1.weight\n",
      "layer2.1.bn1.bias\n",
      "layer2.1.conv2.weight\n",
      "layer2.1.bn2.weight\n",
      "layer2.1.bn2.bias\n",
      "layer2.1.conv3.weight\n",
      "layer2.1.bn3.weight\n",
      "layer2.1.bn3.bias\n",
      "layer2.2.conv1.weight\n",
      "layer2.2.bn1.weight\n",
      "layer2.2.bn1.bias\n",
      "layer2.2.conv2.weight\n",
      "layer2.2.bn2.weight\n",
      "layer2.2.bn2.bias\n",
      "layer2.2.conv3.weight\n",
      "layer2.2.bn3.weight\n",
      "layer2.2.bn3.bias\n",
      "layer2.3.conv1.weight\n",
      "layer2.3.bn1.weight\n",
      "layer2.3.bn1.bias\n",
      "layer2.3.conv2.weight\n",
      "layer2.3.bn2.weight\n",
      "layer2.3.bn2.bias\n",
      "layer2.3.conv3.weight\n",
      "layer2.3.bn3.weight\n",
      "layer2.3.bn3.bias\n",
      "layer3.0.conv1.weight\n",
      "layer3.0.bn1.weight\n",
      "layer3.0.bn1.bias\n",
      "layer3.0.conv2.weight\n",
      "layer3.0.bn2.weight\n",
      "layer3.0.bn2.bias\n",
      "layer3.0.conv3.weight\n",
      "layer3.0.bn3.weight\n",
      "layer3.0.bn3.bias\n",
      "layer3.0.downsample.0.weight\n",
      "layer3.0.downsample.1.weight\n",
      "layer3.0.downsample.1.bias\n",
      "layer3.1.conv1.weight\n",
      "layer3.1.bn1.weight\n",
      "layer3.1.bn1.bias\n",
      "layer3.1.conv2.weight\n",
      "layer3.1.bn2.weight\n",
      "layer3.1.bn2.bias\n",
      "layer3.1.conv3.weight\n",
      "layer3.1.bn3.weight\n",
      "layer3.1.bn3.bias\n",
      "layer3.2.conv1.weight\n",
      "layer3.2.bn1.weight\n",
      "layer3.2.bn1.bias\n",
      "layer3.2.conv2.weight\n",
      "layer3.2.bn2.weight\n",
      "layer3.2.bn2.bias\n",
      "layer3.2.conv3.weight\n",
      "layer3.2.bn3.weight\n",
      "layer3.2.bn3.bias\n",
      "layer3.3.conv1.weight\n",
      "layer3.3.bn1.weight\n",
      "layer3.3.bn1.bias\n",
      "layer3.3.conv2.weight\n",
      "layer3.3.bn2.weight\n",
      "layer3.3.bn2.bias\n",
      "layer3.3.conv3.weight\n",
      "layer3.3.bn3.weight\n",
      "layer3.3.bn3.bias\n",
      "layer3.4.conv1.weight\n",
      "layer3.4.bn1.weight\n",
      "layer3.4.bn1.bias\n",
      "layer3.4.conv2.weight\n",
      "layer3.4.bn2.weight\n",
      "layer3.4.bn2.bias\n",
      "layer3.4.conv3.weight\n",
      "layer3.4.bn3.weight\n",
      "layer3.4.bn3.bias\n",
      "layer3.5.conv1.weight\n",
      "layer3.5.bn1.weight\n",
      "layer3.5.bn1.bias\n",
      "layer3.5.conv2.weight\n",
      "layer3.5.bn2.weight\n",
      "layer3.5.bn2.bias\n",
      "layer3.5.conv3.weight\n",
      "layer3.5.bn3.weight\n",
      "layer3.5.bn3.bias\n",
      "layer4.0.conv1.weight\n",
      "layer4.0.bn1.weight\n",
      "layer4.0.bn1.bias\n",
      "layer4.0.conv2.weight\n",
      "layer4.0.bn2.weight\n",
      "layer4.0.bn2.bias\n",
      "layer4.0.conv3.weight\n",
      "layer4.0.bn3.weight\n",
      "layer4.0.bn3.bias\n",
      "layer4.0.downsample.0.weight\n",
      "layer4.0.downsample.1.weight\n",
      "layer4.0.downsample.1.bias\n",
      "layer4.1.conv1.weight\n",
      "layer4.1.bn1.weight\n",
      "layer4.1.bn1.bias\n",
      "layer4.1.conv2.weight\n",
      "layer4.1.bn2.weight\n",
      "layer4.1.bn2.bias\n",
      "layer4.1.conv3.weight\n",
      "layer4.1.bn3.weight\n",
      "layer4.1.bn3.bias\n",
      "layer4.2.conv1.weight\n",
      "layer4.2.bn1.weight\n",
      "layer4.2.bn1.bias\n",
      "layer4.2.conv2.weight\n",
      "layer4.2.bn2.weight\n",
      "layer4.2.bn2.bias\n",
      "layer4.2.conv3.weight\n",
      "layer4.2.bn3.weight\n",
      "layer4.2.bn3.bias\n",
      "fc.weight\n",
      "fc.bias\n"
     ]
    }
   ],
   "source": [
    "layers_req_grad = 0\n",
    "tot_layers = 0\n",
    "\n",
    "params_req_grad = 0\n",
    "tot_params = 0\n",
    "\n",
    "for param in model.named_parameters():\n",
    "    print(param[0])\n",
    "    if (param[1].requires_grad):\n",
    "        layers_req_grad += 1\n",
    "        params_req_grad += param[1].nelement()\n",
    "    tot_layers += 1\n",
    "    tot_params += param[1].nelement()"
   ]
  },
  {
   "cell_type": "code",
   "execution_count": 19,
   "metadata": {
    "ExecuteTime": {
     "end_time": "2020-01-02T17:35:57.227516Z",
     "start_time": "2020-01-02T17:35:57.223426Z"
    },
    "hidden": true,
    "run_control": {
     "marked": false
    }
   },
   "outputs": [
    {
     "name": "stdout",
     "output_type": "stream",
     "text": [
      "161 layers require gradients (unfrozen) out of 161 layers\n",
      "23,528,522 parameters require gradients (unfrozen) out of 23,528,522 parameters\n"
     ]
    }
   ],
   "source": [
    "print(\"{0:,} layers require gradients (unfrozen) out of {1:,} layers\".format(layers_req_grad, tot_layers))\n",
    "print(\"{0:,} parameters require gradients (unfrozen) out of {1:,} parameters\".format(params_req_grad, tot_params))"
   ]
  },
  {
   "cell_type": "markdown",
   "metadata": {
    "heading_collapsed": true,
    "hidden": true
   },
   "source": [
    "## Loss Function"
   ]
  },
  {
   "cell_type": "code",
   "execution_count": 20,
   "metadata": {
    "ExecuteTime": {
     "end_time": "2020-01-02T17:35:57.234123Z",
     "start_time": "2020-01-02T17:35:57.229539Z"
    },
    "hidden": true,
    "run_control": {
     "marked": false
    }
   },
   "outputs": [
    {
     "data": {
      "text/plain": [
       "CrossEntropyLoss()"
      ]
     },
     "execution_count": 20,
     "metadata": {},
     "output_type": "execute_result"
    }
   ],
   "source": [
    "loss_func = torch.nn.CrossEntropyLoss()\n",
    "loss_func"
   ]
  },
  {
   "cell_type": "markdown",
   "metadata": {
    "heading_collapsed": true,
    "hidden": true
   },
   "source": [
    "## Forward Pass Playground"
   ]
  },
  {
   "cell_type": "code",
   "execution_count": 21,
   "metadata": {
    "ExecuteTime": {
     "end_time": "2020-01-02T17:35:58.238415Z",
     "start_time": "2020-01-02T17:35:57.236054Z"
    },
    "hidden": true,
    "run_control": {
     "marked": false
    }
   },
   "outputs": [],
   "source": [
    "sampleBatch = next(iter(trainDataLoader))"
   ]
  },
  {
   "cell_type": "code",
   "execution_count": 22,
   "metadata": {
    "ExecuteTime": {
     "end_time": "2020-01-02T17:35:58.857322Z",
     "start_time": "2020-01-02T17:35:58.240912Z"
    },
    "hidden": true,
    "run_control": {
     "marked": false
    }
   },
   "outputs": [
    {
     "data": {
      "text/plain": [
       "torch.Size([100, 10])"
      ]
     },
     "execution_count": 22,
     "metadata": {},
     "output_type": "execute_result"
    }
   ],
   "source": [
    "with torch.no_grad():\n",
    "    imgs = sampleBatch[0].cuda()\n",
    "    labels = sampleBatch[1].cuda()\n",
    "    preds = model(imgs)\n",
    "    \n",
    "preds.shape"
   ]
  },
  {
   "cell_type": "code",
   "execution_count": 23,
   "metadata": {
    "ExecuteTime": {
     "end_time": "2020-01-02T17:35:58.866260Z",
     "start_time": "2020-01-02T17:35:58.861970Z"
    },
    "hidden": true,
    "run_control": {
     "marked": false
    }
   },
   "outputs": [
    {
     "data": {
      "text/plain": [
       "torch.Size([100])"
      ]
     },
     "execution_count": 23,
     "metadata": {},
     "output_type": "execute_result"
    }
   ],
   "source": [
    "labels.shape"
   ]
  },
  {
   "cell_type": "code",
   "execution_count": 24,
   "metadata": {
    "ExecuteTime": {
     "end_time": "2020-01-02T17:35:58.875332Z",
     "start_time": "2020-01-02T17:35:58.868646Z"
    },
    "hidden": true,
    "run_control": {
     "marked": false
    },
    "scrolled": true
   },
   "outputs": [
    {
     "data": {
      "text/plain": [
       "tensor(2.3665, device='cuda:0')"
      ]
     },
     "execution_count": 24,
     "metadata": {},
     "output_type": "execute_result"
    }
   ],
   "source": [
    "loss_func(preds, labels)"
   ]
  },
  {
   "cell_type": "code",
   "execution_count": 25,
   "metadata": {
    "ExecuteTime": {
     "end_time": "2020-01-02T17:35:58.881634Z",
     "start_time": "2020-01-02T17:35:58.877293Z"
    },
    "hidden": true,
    "run_control": {
     "marked": false
    },
    "scrolled": false
   },
   "outputs": [
    {
     "data": {
      "text/plain": [
       "2.366530418395996"
      ]
     },
     "execution_count": 25,
     "metadata": {},
     "output_type": "execute_result"
    }
   ],
   "source": [
    "loss_func(preds, labels).item()"
   ]
  },
  {
   "cell_type": "code",
   "execution_count": 26,
   "metadata": {
    "ExecuteTime": {
     "end_time": "2020-01-02T17:35:58.889555Z",
     "start_time": "2020-01-02T17:35:58.883494Z"
    },
    "hidden": true,
    "run_control": {
     "marked": false
    }
   },
   "outputs": [
    {
     "data": {
      "text/plain": [
       "(torch.Size([100, 10]), tensor(1., device='cuda:0'))"
      ]
     },
     "execution_count": 26,
     "metadata": {},
     "output_type": "execute_result"
    }
   ],
   "source": [
    "softedPreds = torch.softmax(preds,dim=1)\n",
    "softedPreds.shape, softedPreds[0].sum()"
   ]
  },
  {
   "cell_type": "code",
   "execution_count": 27,
   "metadata": {
    "ExecuteTime": {
     "end_time": "2020-01-02T17:35:58.898959Z",
     "start_time": "2020-01-02T17:35:58.891379Z"
    },
    "hidden": true,
    "run_control": {
     "marked": false
    }
   },
   "outputs": [
    {
     "data": {
      "text/plain": [
       "(tensor([-2.4204e-01, -1.6971e-01, -1.2173e+00, -6.3176e-01,  7.7287e-01,\n",
       "         -4.3171e-01,  3.1923e-01,  3.7427e-01, -8.7267e-04,  1.8093e-01],\n",
       "        device='cuda:0'),\n",
       " tensor([0.0762, 0.0819, 0.0287, 0.0516, 0.2103, 0.0631, 0.1336, 0.1412, 0.0970,\n",
       "         0.1163], device='cuda:0'),\n",
       " tensor(4, device='cuda:0'))"
      ]
     },
     "execution_count": 27,
     "metadata": {},
     "output_type": "execute_result"
    }
   ],
   "source": [
    "preds[0], softedPreds[0], labels[0]"
   ]
  },
  {
   "cell_type": "code",
   "execution_count": 28,
   "metadata": {
    "ExecuteTime": {
     "end_time": "2020-01-02T17:35:58.909766Z",
     "start_time": "2020-01-02T17:35:58.900749Z"
    },
    "hidden": true,
    "run_control": {
     "marked": false
    }
   },
   "outputs": [
    {
     "name": "stdout",
     "output_type": "stream",
     "text": [
      "tensor([4, 9, 9, 4, 9, 9, 8, 6, 4, 1, 5, 8, 5, 8, 6, 4, 0, 4, 9, 7, 9, 1, 2, 7,\n",
      "        9, 8, 4, 4, 7, 8, 5, 8, 0, 3, 5, 4, 1, 0, 4, 6, 9, 1, 7, 8, 0, 4, 9, 7,\n",
      "        3, 9, 5, 2, 5, 2, 5, 8, 5, 4, 3, 8, 2, 7, 9, 0, 1, 2, 0, 3, 3, 8, 2, 1,\n",
      "        1, 8, 7, 7, 0, 4, 6, 7, 8, 2, 0, 9, 6, 6, 6, 1, 5, 9, 0, 7, 4, 7, 9, 8,\n",
      "        2, 8, 0, 4], device='cuda:0')\n",
      "tensor([[4, 7],\n",
      "        [4, 7],\n",
      "        [4, 7],\n",
      "        [7, 9],\n",
      "        [7, 4]], device='cuda:0')\n"
     ]
    }
   ],
   "source": [
    "# Top K accuracy.\n",
    "k = 2\n",
    "classPreds = softedPreds.topk(k=k, dim=1)[1]\n",
    "print(labels)\n",
    "print(classPreds[:5])"
   ]
  },
  {
   "cell_type": "code",
   "execution_count": 29,
   "metadata": {
    "ExecuteTime": {
     "end_time": "2020-01-02T17:35:58.924666Z",
     "start_time": "2020-01-02T17:35:58.911611Z"
    },
    "hidden": true,
    "run_control": {
     "marked": false
    }
   },
   "outputs": [],
   "source": [
    "total_in_topK = 0\n",
    "for i, x in enumerate(labels):\n",
    "    if x in classPreds[i]:\n",
    "        total_in_topK += 1"
   ]
  },
  {
   "cell_type": "code",
   "execution_count": 30,
   "metadata": {
    "ExecuteTime": {
     "end_time": "2020-01-02T17:35:58.930835Z",
     "start_time": "2020-01-02T17:35:58.926495Z"
    },
    "hidden": true,
    "run_control": {
     "marked": false
    }
   },
   "outputs": [
    {
     "data": {
      "text/plain": [
       "(23, 100, 0.23)"
      ]
     },
     "execution_count": 30,
     "metadata": {},
     "output_type": "execute_result"
    }
   ],
   "source": [
    "tot_num = len(labels)\n",
    "total_in_topK, tot_num, total_in_topK/tot_num"
   ]
  },
  {
   "cell_type": "markdown",
   "metadata": {
    "ExecuteTime": {
     "end_time": "2020-01-02T04:41:41.482495Z",
     "start_time": "2020-01-02T04:41:41.475229Z"
    },
    "run_control": {
     "marked": false
    }
   },
   "source": [
    "# Train"
   ]
  },
  {
   "cell_type": "markdown",
   "metadata": {
    "heading_collapsed": true
   },
   "source": [
    "## Utils"
   ]
  },
  {
   "cell_type": "code",
   "execution_count": 31,
   "metadata": {
    "ExecuteTime": {
     "end_time": "2020-01-02T17:35:58.938964Z",
     "start_time": "2020-01-02T17:35:58.932776Z"
    },
    "hidden": true,
    "run_control": {
     "marked": false
    }
   },
   "outputs": [],
   "source": [
    "def calcTopK(preds, labels, k):\n",
    "    softedPreds = torch.softmax(preds,dim=1)\n",
    "    \n",
    "    # Top K accuracy.\n",
    "    classPreds = softedPreds.topk(k=k, dim=1)[1]\n",
    "    \n",
    "    total_in_topK = 0\n",
    "    for i, x in enumerate(labels):\n",
    "        if x in classPreds[i]:\n",
    "            total_in_topK += 1\n",
    "\n",
    "    tot_num = len(labels)\n",
    "    \n",
    "    return total_in_topK/tot_num"
   ]
  },
  {
   "cell_type": "code",
   "execution_count": 32,
   "metadata": {
    "ExecuteTime": {
     "end_time": "2020-01-02T17:35:58.950968Z",
     "start_time": "2020-01-02T17:35:58.941128Z"
    },
    "hidden": true,
    "run_control": {
     "marked": false
    }
   },
   "outputs": [],
   "source": [
    "def writeMessage(msg):\n",
    "    # Write to file.\n",
    "    print(msg)\n",
    "    myFile = open(\"Training Progress \" + versionName + \".txt\", \"a\")\n",
    "    myFile.write(msg)\n",
    "    myFile.write(\"\\n\")\n",
    "    myFile.close()"
   ]
  },
  {
   "cell_type": "markdown",
   "metadata": {
    "heading_collapsed": true
   },
   "source": [
    "## Training Epoch"
   ]
  },
  {
   "cell_type": "code",
   "execution_count": 33,
   "metadata": {
    "ExecuteTime": {
     "end_time": "2020-01-02T17:35:59.061366Z",
     "start_time": "2020-01-02T17:35:58.952903Z"
    },
    "hidden": true,
    "run_control": {
     "marked": false
    }
   },
   "outputs": [],
   "source": [
    "def trainEpoch(myDataLoader):\n",
    "    global tensorboard_recorder_train_step\n",
    "    running_loss = 0.0\n",
    "    running_top1 = 0.0\n",
    "    running_top2 = 0.0\n",
    "    running_top3 = 0.0\n",
    "    for i, sampleBatch in enumerate(myDataLoader, start=1):\n",
    "        \n",
    "        # --- Main Training ---\n",
    "        \n",
    "        # gpu\n",
    "        imgs = sampleBatch[0].cuda()\n",
    "        labels = sampleBatch[1].cuda()\n",
    "        \n",
    "        # zero the parameter gradients\n",
    "        opt.zero_grad()\n",
    "\n",
    "        # forward\n",
    "        preds = model(imgs)\n",
    "        \n",
    "        # loss\n",
    "        loss = loss_func(preds, labels)\n",
    "        running_loss += loss.item()\n",
    "        \n",
    "        # backward\n",
    "        loss.backward()\n",
    "        \n",
    "        # update parameters\n",
    "        opt.step()\n",
    "        \n",
    "        # --- Metrics Recording ---\n",
    "        \n",
    "        # metrics\n",
    "        top1 = calcTopK(preds, labels, k=1)\n",
    "        top2 = calcTopK(preds, labels, k=2)\n",
    "        top3 = calcTopK(preds, labels, k=3)\n",
    "        running_top1 += top1\n",
    "        running_top2 += top2\n",
    "        running_top3 += top3\n",
    "        \n",
    "        # tensorboard writes\n",
    "        if (i % tensorboard_rate == 0):\n",
    "            tensorboard_recorder_train_step += 1\n",
    "            avg_running_loss = running_loss/tensorboard_rate\n",
    "            avg_running_top1 = running_top1/tensorboard_rate\n",
    "            avg_running_top2 = running_top2/tensorboard_rate\n",
    "            avg_running_top3 = running_top3/tensorboard_rate\n",
    "            tensorboard_writer.add_scalar(tag=\"Train Cross Entropy Loss\", scalar_value=avg_running_loss, global_step=tensorboard_recorder_train_step)\n",
    "            tensorboard_writer.add_scalar(tag=\"Train Top-1 Accuracy\", scalar_value=avg_running_top1, global_step=tensorboard_recorder_train_step)\n",
    "            tensorboard_writer.add_scalar(tag=\"Train Top-2 Accuracy\", scalar_value=avg_running_top2, global_step=tensorboard_recorder_train_step)\n",
    "            tensorboard_writer.add_scalar(tag=\"Train Top-3 Accuracy\", scalar_value=avg_running_top3, global_step=tensorboard_recorder_train_step)\n",
    "            # reset running_loss for the next set of batches. (tensorboard_rate number of batches)\n",
    "            running_loss = 0.0\n",
    "            running_top1 = 0.0\n",
    "            running_top2 = 0.0\n",
    "            running_top3 = 0.0"
   ]
  },
  {
   "cell_type": "markdown",
   "metadata": {
    "heading_collapsed": true
   },
   "source": [
    "## Valid Epoch"
   ]
  },
  {
   "cell_type": "code",
   "execution_count": 34,
   "metadata": {
    "ExecuteTime": {
     "end_time": "2020-01-02T17:35:59.076588Z",
     "start_time": "2020-01-02T17:35:59.063321Z"
    },
    "hidden": true,
    "run_control": {
     "marked": false
    }
   },
   "outputs": [],
   "source": [
    "def validEpoch(myDataLoader):\n",
    "    global tensorboard_recorder_valid_step\n",
    "    running_loss = 0.0\n",
    "    running_top1 = 0.0\n",
    "    running_top2 = 0.0\n",
    "    running_top3 = 0.0\n",
    "    for i, sampleBatch in enumerate(myDataLoader, start=1):\n",
    "        \n",
    "        # --- Metrics Recording ---\n",
    "        \n",
    "        # gpu\n",
    "        imgs = sampleBatch[0].cuda()\n",
    "        labels = sampleBatch[1].cuda()\n",
    "\n",
    "        # forward, no gradient calculations\n",
    "        with torch.no_grad():\n",
    "            preds = model(imgs)\n",
    "        \n",
    "        # loss\n",
    "        loss = loss_func(preds, labels)\n",
    "        running_loss += loss.item()\n",
    "        \n",
    "        # metrics\n",
    "        top1 = calcTopK(preds, labels, k=1)\n",
    "        top2 = calcTopK(preds, labels, k=2)\n",
    "        top3 = calcTopK(preds, labels, k=3)\n",
    "        running_top1 += top1\n",
    "        running_top2 += top2\n",
    "        running_top3 += top3\n",
    "        \n",
    "        # tensorboard writes\n",
    "        if (i % tensorboard_rate == 0):\n",
    "            tensorboard_recorder_valid_step += 1\n",
    "            avg_running_loss = running_loss/tensorboard_rate\n",
    "            avg_running_top1 = running_top1/tensorboard_rate\n",
    "            avg_running_top2 = running_top2/tensorboard_rate\n",
    "            avg_running_top3 = running_top3/tensorboard_rate\n",
    "            tensorboard_writer.add_scalar(tag=\"Valid Cross Entropy Loss\", scalar_value=avg_running_loss, global_step=tensorboard_recorder_valid_step)\n",
    "            tensorboard_writer.add_scalar(tag=\"Valid Top-1 Accuracy\", scalar_value=avg_running_top1, global_step=tensorboard_recorder_valid_step)\n",
    "            tensorboard_writer.add_scalar(tag=\"Valid Top-2 Accuracy\", scalar_value=avg_running_top2, global_step=tensorboard_recorder_valid_step)\n",
    "            tensorboard_writer.add_scalar(tag=\"Valid Top-3 Accuracy\", scalar_value=avg_running_top3, global_step=tensorboard_recorder_valid_step)\n",
    "            # reset running_loss for the next set of batches. (tensorboard_rate number of batches)\n",
    "            running_loss = 0.0\n",
    "            running_top1 = 0.0\n",
    "            running_top2 = 0.0\n",
    "            running_top3 = 0.0"
   ]
  },
  {
   "cell_type": "markdown",
   "metadata": {
    "heading_collapsed": true
   },
   "source": [
    "## Set-up and Main Loop"
   ]
  },
  {
   "cell_type": "code",
   "execution_count": 35,
   "metadata": {
    "ExecuteTime": {
     "end_time": "2020-01-02T17:35:59.082279Z",
     "start_time": "2020-01-02T17:35:59.078507Z"
    },
    "hidden": true,
    "run_control": {
     "marked": false
    }
   },
   "outputs": [
    {
     "name": "stdout",
     "output_type": "stream",
     "text": [
      "checkpoints directory already exists :)\n"
     ]
    }
   ],
   "source": [
    "try:\n",
    "    os.mkdir(\"cps\")\n",
    "except:\n",
    "    print(\"checkpoints directory already exists :)\")"
   ]
  },
  {
   "cell_type": "code",
   "execution_count": 36,
   "metadata": {
    "ExecuteTime": {
     "end_time": "2020-01-02T17:35:59.525396Z",
     "start_time": "2020-01-02T17:35:59.084089Z"
    },
    "hidden": true,
    "run_control": {
     "marked": false
    }
   },
   "outputs": [],
   "source": [
    "from torch.utils.tensorboard import SummaryWriter\n",
    "# create a summary writer.\n",
    "tensorboard_writer = SummaryWriter(\"tensorboard_runs/model_\" + versionName)"
   ]
  },
  {
   "cell_type": "code",
   "execution_count": 37,
   "metadata": {
    "ExecuteTime": {
     "end_time": "2020-01-02T17:35:59.530499Z",
     "start_time": "2020-01-02T17:35:59.527372Z"
    },
    "hidden": true,
    "run_control": {
     "marked": false
    }
   },
   "outputs": [],
   "source": [
    "tensorboard_recorder_train_step = 0\n",
    "tensorboard_recorder_valid_step = 0"
   ]
  },
  {
   "cell_type": "code",
   "execution_count": 38,
   "metadata": {
    "ExecuteTime": {
     "end_time": "2020-01-02T17:35:59.540201Z",
     "start_time": "2020-01-02T17:35:59.532656Z"
    },
    "hidden": true,
    "run_control": {
     "marked": false
    }
   },
   "outputs": [],
   "source": [
    "def fit():\n",
    "    writeMessage('---------- Started Training ----------')\n",
    "\n",
    "    for epoch in range(1, epochs+1):  # loop over the dataset multiple times\n",
    "\n",
    "        writeMessage(\"--- Epoch {0}/{1} ---\".format(epoch, epochs))\n",
    "\n",
    "        model.train()\n",
    "        trainEpoch(trainDataLoader)\n",
    "\n",
    "        model.eval()\n",
    "        validEpoch(validDataLoader)\n",
    "        \n",
    "        if (epoch % checkpoint_rate == 0):\n",
    "            torch.save(model.state_dict(), 'cps/model_'+versionName+'_epoch_'+str(epoch))\n",
    "\n",
    "    writeMessage('---------- Finished Training ----------')"
   ]
  },
  {
   "cell_type": "markdown",
   "metadata": {},
   "source": [
    "## Start Training"
   ]
  },
  {
   "cell_type": "code",
   "execution_count": 39,
   "metadata": {
    "ExecuteTime": {
     "end_time": "2020-01-02T17:35:59.552364Z",
     "start_time": "2020-01-02T17:35:59.542045Z"
    }
   },
   "outputs": [
    {
     "name": "stderr",
     "output_type": "stream",
     "text": [
      "/home/saini5/anaconda3/lib/python3.7/site-packages/tqdm/autonotebook.py:17: TqdmExperimentalWarning: Using `tqdm.autonotebook.tqdm` in notebook mode. Use `tqdm.tqdm` instead to force console mode (e.g. in jupyter console)\n",
      "  \" (e.g. in jupyter console)\", TqdmExperimentalWarning)\n"
     ]
    }
   ],
   "source": [
    "from torch_lr_finder import LRFinder"
   ]
  },
  {
   "cell_type": "code",
   "execution_count": 40,
   "metadata": {
    "ExecuteTime": {
     "end_time": "2020-01-02T17:35:59.560800Z",
     "start_time": "2020-01-02T17:35:59.554437Z"
    }
   },
   "outputs": [
    {
     "data": {
      "text/plain": [
       "Adam (\n",
       "Parameter Group 0\n",
       "    amsgrad: False\n",
       "    betas: (0.9, 0.999)\n",
       "    eps: 1e-08\n",
       "    lr: 1e-07\n",
       "    weight_decay: 0\n",
       ")"
      ]
     },
     "execution_count": 40,
     "metadata": {},
     "output_type": "execute_result"
    }
   ],
   "source": [
    "opt = torch.optim.Adam(model.parameters(), lr=1e-7)\n",
    "opt"
   ]
  },
  {
   "cell_type": "code",
   "execution_count": 41,
   "metadata": {
    "ExecuteTime": {
     "end_time": "2020-01-02T17:41:31.553489Z",
     "start_time": "2020-01-02T17:35:59.562976Z"
    }
   },
   "outputs": [
    {
     "data": {
      "application/vnd.jupyter.widget-view+json": {
       "model_id": "c4e0348874104aa5a5b7a6aca1bce2d0",
       "version_major": 2,
       "version_minor": 0
      },
      "text/plain": [
       "HBox(children=(IntProgress(value=0, max=200), HTML(value='')))"
      ]
     },
     "metadata": {},
     "output_type": "display_data"
    },
    {
     "name": "stdout",
     "output_type": "stream",
     "text": [
      "Stopping early, the loss has diverged\n",
      "Learning rate search finished. See the graph with {finder_name}.plot()\n"
     ]
    },
    {
     "data": {
      "image/png": "[encoded data removed]",
      "text/plain": [
       "<Figure size 432x288 with 1 Axes>"
      ]
     },
     "metadata": {
      "needs_background": "light"
     },
     "output_type": "display_data"
    }
   ],
   "source": [
    "lr_finder = LRFinder(model=model, optimizer=opt, criterion=loss_func, device=\"cuda\")\n",
    "lr_finder.range_test(trainDataLoader, end_lr=100, num_iter=200)\n",
    "lr_finder.plot()\n",
    "# reset model & opt to their original weights\n",
    "lr_finder.reset()"
   ]
  },
  {
   "cell_type": "code",
   "execution_count": 42,
   "metadata": {
    "ExecuteTime": {
     "end_time": "2020-01-02T17:42:43.947884Z",
     "start_time": "2020-01-02T17:42:43.942610Z"
    }
   },
   "outputs": [],
   "source": [
    "opt = torch.optim.Adam(model.parameters(), lr=3e-4)"
   ]
  },
  {
   "cell_type": "code",
   "execution_count": 43,
   "metadata": {
    "ExecuteTime": {
     "end_time": "2020-01-02T18:23:07.311933Z",
     "start_time": "2020-01-02T17:42:44.611175Z"
    },
    "run_control": {
     "marked": false
    }
   },
   "outputs": [
    {
     "name": "stdout",
     "output_type": "stream",
     "text": [
      "---------- Started Training ----------\n",
      "--- Epoch 1/10 ---\n",
      "--- Epoch 2/10 ---\n",
      "--- Epoch 3/10 ---\n",
      "--- Epoch 4/10 ---\n",
      "--- Epoch 5/10 ---\n",
      "--- Epoch 6/10 ---\n",
      "--- Epoch 7/10 ---\n",
      "--- Epoch 8/10 ---\n",
      "--- Epoch 9/10 ---\n",
      "--- Epoch 10/10 ---\n",
      "---------- Finished Training ----------\n"
     ]
    }
   ],
   "source": [
    "fit()"
   ]
  },
  {
   "cell_type": "code",
   "execution_count": 44,
   "metadata": {
    "ExecuteTime": {
     "end_time": "2020-01-02T18:26:14.856215Z",
     "start_time": "2020-01-02T18:26:14.848730Z"
    }
   },
   "outputs": [
    {
     "data": {
      "text/plain": [
       "Adam (\n",
       "Parameter Group 0\n",
       "    amsgrad: False\n",
       "    betas: (0.9, 0.999)\n",
       "    eps: 1e-08\n",
       "    lr: 1e-07\n",
       "    weight_decay: 0\n",
       ")"
      ]
     },
     "execution_count": 44,
     "metadata": {},
     "output_type": "execute_result"
    }
   ],
   "source": [
    "opt = torch.optim.Adam(model.parameters(), lr=1e-7)\n",
    "opt"
   ]
  },
  {
   "cell_type": "code",
   "execution_count": 45,
   "metadata": {
    "ExecuteTime": {
     "end_time": "2020-01-02T18:29:41.528342Z",
     "start_time": "2020-01-02T18:26:16.919205Z"
    }
   },
   "outputs": [
    {
     "data": {
      "application/vnd.jupyter.widget-view+json": {
       "model_id": "839e72f407034bcb989454cde40d2e57",
       "version_major": 2,
       "version_minor": 0
      },
      "text/plain": [
       "HBox(children=(IntProgress(value=0, max=200), HTML(value='')))"
      ]
     },
     "metadata": {},
     "output_type": "display_data"
    },
    {
     "name": "stdout",
     "output_type": "stream",
     "text": [
      "Stopping early, the loss has diverged\n",
      "Learning rate search finished. See the graph with {finder_name}.plot()\n"
     ]
    },
    {
     "data": {
      "image/png": "[encoded data removed]",
      "text/plain": [
       "<Figure size 432x288 with 1 Axes>"
      ]
     },
     "metadata": {
      "needs_background": "light"
     },
     "output_type": "display_data"
    }
   ],
   "source": [
    "lr_finder = LRFinder(model=model, optimizer=opt, criterion=loss_func, device=\"cuda\")\n",
    "lr_finder.range_test(trainDataLoader, end_lr=100, num_iter=200)\n",
    "lr_finder.plot()\n",
    "# reset model & opt to their original weights\n",
    "lr_finder.reset()"
   ]
  },
  {
   "cell_type": "code",
   "execution_count": 46,
   "metadata": {
    "ExecuteTime": {
     "end_time": "2020-01-02T18:30:01.494812Z",
     "start_time": "2020-01-02T18:30:01.489706Z"
    }
   },
   "outputs": [],
   "source": [
    "opt = torch.optim.Adam(model.parameters(), lr=3e-4)"
   ]
  },
  {
   "cell_type": "code",
   "execution_count": 47,
   "metadata": {
    "ExecuteTime": {
     "end_time": "2020-01-02T19:10:30.802186Z",
     "start_time": "2020-01-02T18:30:03.492765Z"
    }
   },
   "outputs": [
    {
     "name": "stdout",
     "output_type": "stream",
     "text": [
      "---------- Started Training ----------\n",
      "--- Epoch 1/10 ---\n",
      "--- Epoch 2/10 ---\n",
      "--- Epoch 3/10 ---\n",
      "--- Epoch 4/10 ---\n",
      "--- Epoch 5/10 ---\n",
      "--- Epoch 6/10 ---\n",
      "--- Epoch 7/10 ---\n",
      "--- Epoch 8/10 ---\n",
      "--- Epoch 9/10 ---\n",
      "--- Epoch 10/10 ---\n",
      "---------- Finished Training ----------\n"
     ]
    }
   ],
   "source": [
    "fit()"
   ]
  },
  {
   "cell_type": "code",
   "execution_count": 48,
   "metadata": {
    "ExecuteTime": {
     "end_time": "2020-01-02T19:10:30.811207Z",
     "start_time": "2020-01-02T19:10:30.804535Z"
    }
   },
   "outputs": [
    {
     "data": {
      "text/plain": [
       "Adam (\n",
       "Parameter Group 0\n",
       "    amsgrad: False\n",
       "    betas: (0.9, 0.999)\n",
       "    eps: 1e-08\n",
       "    lr: 1e-07\n",
       "    weight_decay: 0\n",
       ")"
      ]
     },
     "execution_count": 48,
     "metadata": {},
     "output_type": "execute_result"
    }
   ],
   "source": [
    "opt = torch.optim.Adam(model.parameters(), lr=1e-7)\n",
    "opt"
   ]
  },
  {
   "cell_type": "code",
   "execution_count": 49,
   "metadata": {
    "ExecuteTime": {
     "end_time": "2020-01-02T19:13:45.280835Z",
     "start_time": "2020-01-02T19:10:30.813592Z"
    }
   },
   "outputs": [
    {
     "data": {
      "application/vnd.jupyter.widget-view+json": {
       "model_id": "db94a0f0c3804a599c7587e4ba3e8395",
       "version_major": 2,
       "version_minor": 0
      },
      "text/plain": [
       "HBox(children=(IntProgress(value=0, max=200), HTML(value='')))"
      ]
     },
     "metadata": {},
     "output_type": "display_data"
    },
    {
     "name": "stdout",
     "output_type": "stream",
     "text": [
      "Stopping early, the loss has diverged\n",
      "Learning rate search finished. See the graph with {finder_name}.plot()\n"
     ]
    },
    {
     "data": {
      "image/png": "[encoded data removed]",
      "text/plain": [
       "<Figure size 432x288 with 1 Axes>"
      ]
     },
     "metadata": {
      "needs_background": "light"
     },
     "output_type": "display_data"
    }
   ],
   "source": [
    "lr_finder = LRFinder(model=model, optimizer=opt, criterion=loss_func, device=\"cuda\")\n",
    "lr_finder.range_test(trainDataLoader, end_lr=100, num_iter=200)\n",
    "lr_finder.plot()\n",
    "# reset model & opt to their original weights\n",
    "lr_finder.reset()"
   ]
  },
  {
   "cell_type": "code",
   "execution_count": 50,
   "metadata": {
    "ExecuteTime": {
     "end_time": "2020-01-02T19:13:45.285694Z",
     "start_time": "2020-01-02T19:13:45.282879Z"
    }
   },
   "outputs": [],
   "source": [
    "epochs = 5"
   ]
  },
  {
   "cell_type": "code",
   "execution_count": 51,
   "metadata": {
    "ExecuteTime": {
     "end_time": "2020-01-02T19:15:57.838000Z",
     "start_time": "2020-01-02T19:15:57.832657Z"
    }
   },
   "outputs": [],
   "source": [
    "opt = torch.optim.Adam(model.parameters(), lr=8e-5)"
   ]
  },
  {
   "cell_type": "code",
   "execution_count": 52,
   "metadata": {
    "ExecuteTime": {
     "end_time": "2020-01-02T19:36:20.646104Z",
     "start_time": "2020-01-02T19:15:58.405848Z"
    }
   },
   "outputs": [
    {
     "name": "stdout",
     "output_type": "stream",
     "text": [
      "---------- Started Training ----------\n",
      "--- Epoch 1/5 ---\n",
      "--- Epoch 2/5 ---\n",
      "--- Epoch 3/5 ---\n",
      "--- Epoch 4/5 ---\n",
      "--- Epoch 5/5 ---\n",
      "---------- Finished Training ----------\n"
     ]
    }
   ],
   "source": [
    "fit()"
   ]
  },
  {
   "cell_type": "markdown",
   "metadata": {
    "heading_collapsed": true
   },
   "source": [
    "# Fin"
   ]
  }
 ],
 "metadata": {
  "kernelspec": {
   "display_name": "Python 3",
   "language": "python",
   "name": "python3"
  },
  "language_info": {
   "codemirror_mode": {
    "name": "ipython",
    "version": 3
   },
   "file_extension": ".py",
   "mimetype": "text/x-python",
   "name": "python",
   "nbconvert_exporter": "python",
   "pygments_lexer": "ipython3",
   "version": "3.7.4"
  }
 },
 "nbformat": 4,
 "nbformat_minor": 2
}
